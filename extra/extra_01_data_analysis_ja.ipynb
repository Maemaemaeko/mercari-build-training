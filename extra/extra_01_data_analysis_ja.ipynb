{
  "cells": [
    {
      "cell_type": "markdown",
      "id": "mPsk6Vult0uG",
      "metadata": {
        "collapsed": false,
        "id": "mPsk6Vult0uG"
      },
      "source": [
        "# Extra1 データ分析"
      ]
    },
    {
      "cell_type": "code",
      "execution_count": 3,
      "id": "F0fSByiQt0uH",
      "metadata": {
        "ExecuteTime": {
          "end_time": "2024-01-30T09:43:30.499336Z",
          "start_time": "2024-01-30T09:43:27.405571Z"
        },
        "colab": {
          "base_uri": "https://localhost:8080/"
        },
        "id": "F0fSByiQt0uH",
        "outputId": "ee22bd5d-22d3-4372-d763-3fb941eab4cc"
      },
      "outputs": [
        {
          "name": "stdout",
          "output_type": "stream",
          "text": [
            "Requirement already satisfied: matplotlib in /Users/maemaeko/miniconda3/lib/python3.12/site-packages (3.8.4)\n",
            "Requirement already satisfied: contourpy>=1.0.1 in /Users/maemaeko/miniconda3/lib/python3.12/site-packages (from matplotlib) (1.2.1)\n",
            "Requirement already satisfied: cycler>=0.10 in /Users/maemaeko/miniconda3/lib/python3.12/site-packages (from matplotlib) (0.12.1)\n",
            "Requirement already satisfied: fonttools>=4.22.0 in /Users/maemaeko/miniconda3/lib/python3.12/site-packages (from matplotlib) (4.51.0)\n",
            "Requirement already satisfied: kiwisolver>=1.3.1 in /Users/maemaeko/miniconda3/lib/python3.12/site-packages (from matplotlib) (1.4.5)\n",
            "Requirement already satisfied: numpy>=1.21 in /Users/maemaeko/miniconda3/lib/python3.12/site-packages (from matplotlib) (1.26.4)\n",
            "Requirement already satisfied: packaging>=20.0 in /Users/maemaeko/miniconda3/lib/python3.12/site-packages (from matplotlib) (21.3)\n",
            "Requirement already satisfied: pillow>=8 in /Users/maemaeko/miniconda3/lib/python3.12/site-packages (from matplotlib) (10.3.0)\n",
            "Requirement already satisfied: pyparsing>=2.3.1 in /Users/maemaeko/miniconda3/lib/python3.12/site-packages (from matplotlib) (3.0.9)\n",
            "Requirement already satisfied: python-dateutil>=2.7 in /Users/maemaeko/miniconda3/lib/python3.12/site-packages (from matplotlib) (2.9.0)\n",
            "Requirement already satisfied: six>=1.5 in /Users/maemaeko/miniconda3/lib/python3.12/site-packages (from python-dateutil>=2.7->matplotlib) (1.16.0)\n",
            "Requirement already satisfied: pandas in /Users/maemaeko/miniconda3/lib/python3.12/site-packages (2.2.2)\n",
            "Requirement already satisfied: numpy>=1.26.0 in /Users/maemaeko/miniconda3/lib/python3.12/site-packages (from pandas) (1.26.4)\n",
            "Requirement already satisfied: python-dateutil>=2.8.2 in /Users/maemaeko/miniconda3/lib/python3.12/site-packages (from pandas) (2.9.0)\n",
            "Requirement already satisfied: pytz>=2020.1 in /Users/maemaeko/miniconda3/lib/python3.12/site-packages (from pandas) (2022.2.1)\n",
            "Requirement already satisfied: tzdata>=2022.7 in /Users/maemaeko/miniconda3/lib/python3.12/site-packages (from pandas) (2024.1)\n",
            "Requirement already satisfied: six>=1.5 in /Users/maemaeko/miniconda3/lib/python3.12/site-packages (from python-dateutil>=2.8.2->pandas) (1.16.0)\n",
            "Requirement already satisfied: scikit-learn in /Users/maemaeko/miniconda3/lib/python3.12/site-packages (1.5.1)\n",
            "Requirement already satisfied: numpy>=1.19.5 in /Users/maemaeko/miniconda3/lib/python3.12/site-packages (from scikit-learn) (1.26.4)\n",
            "Requirement already satisfied: scipy>=1.6.0 in /Users/maemaeko/miniconda3/lib/python3.12/site-packages (from scikit-learn) (1.12.0)\n",
            "Requirement already satisfied: joblib>=1.2.0 in /Users/maemaeko/miniconda3/lib/python3.12/site-packages (from scikit-learn) (1.4.2)\n",
            "Requirement already satisfied: threadpoolctl>=3.1.0 in /Users/maemaeko/miniconda3/lib/python3.12/site-packages (from scikit-learn) (3.5.0)\n",
            "Requirement already satisfied: seaborn in /Users/maemaeko/miniconda3/lib/python3.12/site-packages (0.13.2)\n",
            "Requirement already satisfied: numpy!=1.24.0,>=1.20 in /Users/maemaeko/miniconda3/lib/python3.12/site-packages (from seaborn) (1.26.4)\n",
            "Requirement already satisfied: pandas>=1.2 in /Users/maemaeko/miniconda3/lib/python3.12/site-packages (from seaborn) (2.2.2)\n",
            "Requirement already satisfied: matplotlib!=3.6.1,>=3.4 in /Users/maemaeko/miniconda3/lib/python3.12/site-packages (from seaborn) (3.8.4)\n",
            "Requirement already satisfied: contourpy>=1.0.1 in /Users/maemaeko/miniconda3/lib/python3.12/site-packages (from matplotlib!=3.6.1,>=3.4->seaborn) (1.2.1)\n",
            "Requirement already satisfied: cycler>=0.10 in /Users/maemaeko/miniconda3/lib/python3.12/site-packages (from matplotlib!=3.6.1,>=3.4->seaborn) (0.12.1)\n",
            "Requirement already satisfied: fonttools>=4.22.0 in /Users/maemaeko/miniconda3/lib/python3.12/site-packages (from matplotlib!=3.6.1,>=3.4->seaborn) (4.51.0)\n",
            "Requirement already satisfied: kiwisolver>=1.3.1 in /Users/maemaeko/miniconda3/lib/python3.12/site-packages (from matplotlib!=3.6.1,>=3.4->seaborn) (1.4.5)\n",
            "Requirement already satisfied: packaging>=20.0 in /Users/maemaeko/miniconda3/lib/python3.12/site-packages (from matplotlib!=3.6.1,>=3.4->seaborn) (21.3)\n",
            "Requirement already satisfied: pillow>=8 in /Users/maemaeko/miniconda3/lib/python3.12/site-packages (from matplotlib!=3.6.1,>=3.4->seaborn) (10.3.0)\n",
            "Requirement already satisfied: pyparsing>=2.3.1 in /Users/maemaeko/miniconda3/lib/python3.12/site-packages (from matplotlib!=3.6.1,>=3.4->seaborn) (3.0.9)\n",
            "Requirement already satisfied: python-dateutil>=2.7 in /Users/maemaeko/miniconda3/lib/python3.12/site-packages (from matplotlib!=3.6.1,>=3.4->seaborn) (2.9.0)\n",
            "Requirement already satisfied: pytz>=2020.1 in /Users/maemaeko/miniconda3/lib/python3.12/site-packages (from pandas>=1.2->seaborn) (2022.2.1)\n",
            "Requirement already satisfied: tzdata>=2022.7 in /Users/maemaeko/miniconda3/lib/python3.12/site-packages (from pandas>=1.2->seaborn) (2024.1)\n",
            "Requirement already satisfied: six>=1.5 in /Users/maemaeko/miniconda3/lib/python3.12/site-packages (from python-dateutil>=2.7->matplotlib!=3.6.1,>=3.4->seaborn) (1.16.0)\n"
          ]
        }
      ],
      "source": [
        "# 演習に必要なライブラリのインストール\n",
        "!pip install matplotlib\n",
        "!pip install pandas\n",
        "!pip install scikit-learn\n",
        "!pip install seaborn\n",
        "\n",
        "import pprint\n",
        "from matplotlib import pyplot as plt\n",
        "%matplotlib inline\n",
        "import pandas as pd\n",
        "import seaborn as sns\n",
        "from sklearn import datasets"
      ]
    },
    {
      "cell_type": "markdown",
      "id": "JmNVjwmmt0uI",
      "metadata": {
        "collapsed": false,
        "id": "JmNVjwmmt0uI"
      },
      "source": [
        "## 問題1 データ読み込み\n",
        "\n",
        "今回の演習では UCI Machine Learning Repository が提供している Wine のデータセットを使用します。[Ref](https://archive.ics.uci.edu/dataset/109/wine)\n",
        "このデータセットはイタリアの同じ地域で栽培され、3つの異なる品種に由来するワインの化学分析の結果です。\n",
        "\n",
        "なおデータ定義は以下の通りです。"
      ]
    },
    {
      "cell_type": "markdown",
      "id": "en4iZms6t0uI",
      "metadata": {
        "collapsed": false,
        "id": "en4iZms6t0uI"
      },
      "source": [
        "### target\n",
        "\n",
        "| 変数名    | 定義     |\n",
        "|--------|--------|\n",
        "| target | ワインの種類 |"
      ]
    },
    {
      "cell_type": "markdown",
      "id": "P0R51QkSt0uI",
      "metadata": {
        "collapsed": false,
        "id": "P0R51QkSt0uI"
      },
      "source": [
        "### feature_names\n",
        "\n",
        "| 変数名                          | 定義                            |\n",
        "|------------------------------|-------------------------------|\n",
        "| alcohol                      | アルコール濃度                       |\n",
        "| malic_acid                   | リンゴ酸濃度                        |\n",
        "| ash                          | 灰分濃度                          |\n",
        "| alcalinity_of_ash            | 灰のアルカリ性                       |\n",
        "| magnesium                    | マグネシウム量                       |\n",
        "| total_phenol                 | フェノール量                        |\n",
        "| flavanoids                   | フラバノイド量                       |\n",
        "| nonflavanoid_phenols         | 非フラバノイドフェノール類の量               |\n",
        "| proanthocyanins              | プロアントシアニン                     |\n",
        "| color_intensity              | 色の強度                          |\n",
        "| hue                          | 色調                            |\n",
        "| od280/OD315_of_diluted wines | 薄めたワインの280nmと315nmの波長の光に対する濁度 |\n",
        "| proline                      | プロリン量                         |\n",
        "\n",
        "ワインの味と成分についての[参考資料](https://www.jstage.jst.go.jp/article/jbrewsocjapan1915/75/8/75_8_631/_pdf/-char/ja)"
      ]
    },
    {
      "cell_type": "markdown",
      "id": "H2AqSNDJt0uI",
      "metadata": {
        "collapsed": false,
        "id": "H2AqSNDJt0uI"
      },
      "source": [
        "### Wine データセットの読み込み\n",
        "\n",
        "Wine データセットは上で `import` した `sklearn.datasets` に格納されています。\n",
        "`sklearn.datasets` からデータセットを読み込むには次のコードを実行します。[Ref](https://scikit-learn.org/stable/modules/generated/sklearn.datasets.load_wine.html)"
      ]
    },
    {
      "cell_type": "code",
      "execution_count": 4,
      "id": "hH9b4J32t0uI",
      "metadata": {
        "ExecuteTime": {
          "end_time": "2024-01-30T09:43:30.506148Z",
          "start_time": "2024-01-30T09:43:30.500653Z"
        },
        "id": "hH9b4J32t0uI"
      },
      "outputs": [],
      "source": [
        "wine_data = datasets.load_wine()"
      ]
    },
    {
      "cell_type": "markdown",
      "id": "ILF6iFSQt0uJ",
      "metadata": {
        "collapsed": false,
        "id": "ILF6iFSQt0uJ"
      },
      "source": [
        "実際に読み込んだデータの中身を見ていきましょう。\n",
        "`Python` の標準ライブラリである `pprint` モジュールを使うと、リスト型や辞書型などのオブジェクトを、整形してきれいに表示できます。[Ref](https://docs.python.org/3/library/pprint.html#module-pprint)"
      ]
    },
    {
      "cell_type": "code",
      "execution_count": 5,
      "id": "8bxjYkhJuyQf",
      "metadata": {
        "colab": {
          "base_uri": "https://localhost:8080/"
        },
        "collapsed": true,
        "id": "8bxjYkhJuyQf",
        "outputId": "0e36a3d5-f0a8-4390-dc91-4d3aa9d31668"
      },
      "outputs": [
        {
          "name": "stdout",
          "output_type": "stream",
          "text": [
            "{'DESCR': '.. _wine_dataset:\\n'\n",
            "          '\\n'\n",
            "          'Wine recognition dataset\\n'\n",
            "          '------------------------\\n'\n",
            "          '\\n'\n",
            "          '**Data Set Characteristics:**\\n'\n",
            "          '\\n'\n",
            "          ':Number of Instances: 178\\n'\n",
            "          ':Number of Attributes: 13 numeric, predictive attributes and the '\n",
            "          'class\\n'\n",
            "          ':Attribute Information:\\n'\n",
            "          '    - Alcohol\\n'\n",
            "          '    - Malic acid\\n'\n",
            "          '    - Ash\\n'\n",
            "          '    - Alcalinity of ash\\n'\n",
            "          '    - Magnesium\\n'\n",
            "          '    - Total phenols\\n'\n",
            "          '    - Flavanoids\\n'\n",
            "          '    - Nonflavanoid phenols\\n'\n",
            "          '    - Proanthocyanins\\n'\n",
            "          '    - Color intensity\\n'\n",
            "          '    - Hue\\n'\n",
            "          '    - OD280/OD315 of diluted wines\\n'\n",
            "          '    - Proline\\n'\n",
            "          '    - class:\\n'\n",
            "          '        - class_0\\n'\n",
            "          '        - class_1\\n'\n",
            "          '        - class_2\\n'\n",
            "          '\\n'\n",
            "          ':Summary Statistics:\\n'\n",
            "          '\\n'\n",
            "          '============================= ==== ===== ======= =====\\n'\n",
            "          '                                Min   Max   Mean     SD\\n'\n",
            "          '============================= ==== ===== ======= =====\\n'\n",
            "          'Alcohol:                      11.0  14.8    13.0   0.8\\n'\n",
            "          'Malic Acid:                   0.74  5.80    2.34  1.12\\n'\n",
            "          'Ash:                          1.36  3.23    2.36  0.27\\n'\n",
            "          'Alcalinity of Ash:            10.6  30.0    19.5   3.3\\n'\n",
            "          'Magnesium:                    70.0 162.0    99.7  14.3\\n'\n",
            "          'Total Phenols:                0.98  3.88    2.29  0.63\\n'\n",
            "          'Flavanoids:                   0.34  5.08    2.03  1.00\\n'\n",
            "          'Nonflavanoid Phenols:         0.13  0.66    0.36  0.12\\n'\n",
            "          'Proanthocyanins:              0.41  3.58    1.59  0.57\\n'\n",
            "          'Colour Intensity:              1.3  13.0     5.1   2.3\\n'\n",
            "          'Hue:                          0.48  1.71    0.96  0.23\\n'\n",
            "          'OD280/OD315 of diluted wines: 1.27  4.00    2.61  0.71\\n'\n",
            "          'Proline:                       278  1680     746   315\\n'\n",
            "          '============================= ==== ===== ======= =====\\n'\n",
            "          '\\n'\n",
            "          ':Missing Attribute Values: None\\n'\n",
            "          ':Class Distribution: class_0 (59), class_1 (71), class_2 (48)\\n'\n",
            "          ':Creator: R.A. Fisher\\n'\n",
            "          ':Donor: Michael Marshall (MARSHALL%PLU@io.arc.nasa.gov)\\n'\n",
            "          ':Date: July, 1988\\n'\n",
            "          '\\n'\n",
            "          'This is a copy of UCI ML Wine recognition datasets.\\n'\n",
            "          'https://archive.ics.uci.edu/ml/machine-learning-databases/wine/wine.data\\n'\n",
            "          '\\n'\n",
            "          'The data is the results of a chemical analysis of wines grown in '\n",
            "          'the same\\n'\n",
            "          'region in Italy by three different cultivators. There are thirteen '\n",
            "          'different\\n'\n",
            "          'measurements taken for different constituents found in the three '\n",
            "          'types of\\n'\n",
            "          'wine.\\n'\n",
            "          '\\n'\n",
            "          'Original Owners:\\n'\n",
            "          '\\n'\n",
            "          'Forina, M. et al, PARVUS -\\n'\n",
            "          'An Extendible Package for Data Exploration, Classification and '\n",
            "          'Correlation.\\n'\n",
            "          'Institute of Pharmaceutical and Food Analysis and Technologies,\\n'\n",
            "          'Via Brigata Salerno, 16147 Genoa, Italy.\\n'\n",
            "          '\\n'\n",
            "          'Citation:\\n'\n",
            "          '\\n'\n",
            "          'Lichman, M. (2013). UCI Machine Learning Repository\\n'\n",
            "          '[https://archive.ics.uci.edu/ml]. Irvine, CA: University of '\n",
            "          'California,\\n'\n",
            "          'School of Information and Computer Science.\\n'\n",
            "          '\\n'\n",
            "          '.. dropdown:: References\\n'\n",
            "          '\\n'\n",
            "          '    (1) S. Aeberhard, D. Coomans and O. de Vel,\\n'\n",
            "          '    Comparison of Classifiers in High Dimensional Settings,\\n'\n",
            "          '    Tech. Rep. no. 92-02, (1992), Dept. of Computer Science and '\n",
            "          'Dept. of\\n'\n",
            "          '    Mathematics and Statistics, James Cook University of North '\n",
            "          'Queensland.\\n'\n",
            "          '    (Also submitted to Technometrics).\\n'\n",
            "          '\\n'\n",
            "          '    The data was used with many others for comparing various\\n'\n",
            "          '    classifiers. The classes are separable, though only RDA\\n'\n",
            "          '    has achieved 100% correct classification.\\n'\n",
            "          '    (RDA : 100%, QDA 99.4%, LDA 98.9%, 1NN 96.1% (z-transformed '\n",
            "          'data))\\n'\n",
            "          '    (All results using the leave-one-out technique)\\n'\n",
            "          '\\n'\n",
            "          '    (2) S. Aeberhard, D. Coomans and O. de Vel,\\n'\n",
            "          '    \"THE CLASSIFICATION PERFORMANCE OF RDA\"\\n'\n",
            "          '    Tech. Rep. no. 92-01, (1992), Dept. of Computer Science and '\n",
            "          'Dept. of\\n'\n",
            "          '    Mathematics and Statistics, James Cook University of North '\n",
            "          'Queensland.\\n'\n",
            "          '    (Also submitted to Journal of Chemometrics).\\n',\n",
            " 'data': array([[1.423e+01, 1.710e+00, 2.430e+00, ..., 1.040e+00, 3.920e+00,\n",
            "        1.065e+03],\n",
            "       [1.320e+01, 1.780e+00, 2.140e+00, ..., 1.050e+00, 3.400e+00,\n",
            "        1.050e+03],\n",
            "       [1.316e+01, 2.360e+00, 2.670e+00, ..., 1.030e+00, 3.170e+00,\n",
            "        1.185e+03],\n",
            "       ...,\n",
            "       [1.327e+01, 4.280e+00, 2.260e+00, ..., 5.900e-01, 1.560e+00,\n",
            "        8.350e+02],\n",
            "       [1.317e+01, 2.590e+00, 2.370e+00, ..., 6.000e-01, 1.620e+00,\n",
            "        8.400e+02],\n",
            "       [1.413e+01, 4.100e+00, 2.740e+00, ..., 6.100e-01, 1.600e+00,\n",
            "        5.600e+02]]),\n",
            " 'feature_names': ['alcohol',\n",
            "                   'malic_acid',\n",
            "                   'ash',\n",
            "                   'alcalinity_of_ash',\n",
            "                   'magnesium',\n",
            "                   'total_phenols',\n",
            "                   'flavanoids',\n",
            "                   'nonflavanoid_phenols',\n",
            "                   'proanthocyanins',\n",
            "                   'color_intensity',\n",
            "                   'hue',\n",
            "                   'od280/od315_of_diluted_wines',\n",
            "                   'proline'],\n",
            " 'frame': None,\n",
            " 'target': array([0, 0, 0, 0, 0, 0, 0, 0, 0, 0, 0, 0, 0, 0, 0, 0, 0, 0, 0, 0, 0, 0,\n",
            "       0, 0, 0, 0, 0, 0, 0, 0, 0, 0, 0, 0, 0, 0, 0, 0, 0, 0, 0, 0, 0, 0,\n",
            "       0, 0, 0, 0, 0, 0, 0, 0, 0, 0, 0, 0, 0, 0, 0, 1, 1, 1, 1, 1, 1, 1,\n",
            "       1, 1, 1, 1, 1, 1, 1, 1, 1, 1, 1, 1, 1, 1, 1, 1, 1, 1, 1, 1, 1, 1,\n",
            "       1, 1, 1, 1, 1, 1, 1, 1, 1, 1, 1, 1, 1, 1, 1, 1, 1, 1, 1, 1, 1, 1,\n",
            "       1, 1, 1, 1, 1, 1, 1, 1, 1, 1, 1, 1, 1, 1, 1, 1, 1, 1, 1, 1, 2, 2,\n",
            "       2, 2, 2, 2, 2, 2, 2, 2, 2, 2, 2, 2, 2, 2, 2, 2, 2, 2, 2, 2, 2, 2,\n",
            "       2, 2, 2, 2, 2, 2, 2, 2, 2, 2, 2, 2, 2, 2, 2, 2, 2, 2, 2, 2, 2, 2,\n",
            "       2, 2]),\n",
            " 'target_names': array(['class_0', 'class_1', 'class_2'], dtype='<U7')}\n"
          ]
        }
      ],
      "source": [
        "pprint.pprint(wine_data)"
      ]
    },
    {
      "cell_type": "markdown",
      "id": "0gurL-MEt0uJ",
      "metadata": {
        "collapsed": false,
        "id": "0gurL-MEt0uJ"
      },
      "source": [
        "Wine データセットの詳細、data、特徴量名などが辞書型で格納されていることが分かります。"
      ]
    },
    {
      "cell_type": "markdown",
      "id": "5YJQkGALt0uJ",
      "metadata": {
        "collapsed": false,
        "id": "5YJQkGALt0uJ"
      },
      "source": [
        "### 問題1-1\n",
        "\n",
        "上で読み込んだデータセット `wine_data` から `data` のみを抽出して、出力して下さい。(※ヒントは[こちら](https://docs.python.org/3/tutorial/datastructures.html#dictionaries))"
      ]
    },
    {
      "cell_type": "code",
      "execution_count": 6,
      "id": "5RNgMzVwt0uJ",
      "metadata": {
        "ExecuteTime": {
          "end_time": "2024-01-30T09:43:30.516460Z",
          "start_time": "2024-01-30T09:43:30.513464Z"
        },
        "colab": {
          "base_uri": "https://localhost:8080/"
        },
        "id": "5RNgMzVwt0uJ",
        "outputId": "e123f539-5e16-4692-f441-2bec6f4b74e9"
      },
      "outputs": [
        {
          "data": {
            "text/plain": [
              "array([[1.423e+01, 1.710e+00, 2.430e+00, ..., 1.040e+00, 3.920e+00,\n",
              "        1.065e+03],\n",
              "       [1.320e+01, 1.780e+00, 2.140e+00, ..., 1.050e+00, 3.400e+00,\n",
              "        1.050e+03],\n",
              "       [1.316e+01, 2.360e+00, 2.670e+00, ..., 1.030e+00, 3.170e+00,\n",
              "        1.185e+03],\n",
              "       ...,\n",
              "       [1.327e+01, 4.280e+00, 2.260e+00, ..., 5.900e-01, 1.560e+00,\n",
              "        8.350e+02],\n",
              "       [1.317e+01, 2.590e+00, 2.370e+00, ..., 6.000e-01, 1.620e+00,\n",
              "        8.400e+02],\n",
              "       [1.413e+01, 4.100e+00, 2.740e+00, ..., 6.100e-01, 1.600e+00,\n",
              "        5.600e+02]])"
            ]
          },
          "execution_count": 6,
          "metadata": {},
          "output_type": "execute_result"
        }
      ],
      "source": [
        "# ===== 以下に解答のコードを入力して下さい =====\n",
        "wine_data.data"
      ]
    },
    {
      "cell_type": "markdown",
      "id": "g5Lcufrpt0uJ",
      "metadata": {
        "collapsed": false,
        "id": "g5Lcufrpt0uJ"
      },
      "source": [
        "### 問題1-2\n",
        "\n",
        "問題1-1 で読み込んだデータを pandas の dataframe に変換して下さい。その際変数名は `wine_df`、カラム名は `wine_data.feature_names` を使用して下さい。(※ヒントは[こちら](https://pandas.pydata.org/docs/reference/api/pandas.DataFrame.html))"
      ]
    },
    {
      "cell_type": "code",
      "execution_count": 7,
      "id": "Okhc9rWtt0uJ",
      "metadata": {
        "ExecuteTime": {
          "end_time": "2024-01-30T09:43:30.519707Z",
          "start_time": "2024-01-30T09:43:30.517691Z"
        },
        "id": "Okhc9rWtt0uJ"
      },
      "outputs": [],
      "source": [
        "# ===== 以下に解答のコードを入力して下さい =====\n",
        "wine_df = pd.DataFrame(wine_data.data, columns=wine_data.feature_names)"
      ]
    },
    {
      "cell_type": "markdown",
      "id": "4T2iyAYYt0uJ",
      "metadata": {
        "collapsed": false,
        "id": "4T2iyAYYt0uJ"
      },
      "source": [
        "### 問題1-3\n",
        "\n",
        "問題1-2 で変換した `wine_df` について、上から10行を Notebook 上に表示してみましょう。(※ヒントは[こちら](https://pandas.pydata.org/docs/reference/api/pandas.DataFrame.head.html))"
      ]
    },
    {
      "cell_type": "code",
      "execution_count": 8,
      "id": "udc_2Bz0t0uJ",
      "metadata": {
        "ExecuteTime": {
          "end_time": "2024-01-30T09:43:30.572231Z",
          "start_time": "2024-01-30T09:43:30.528285Z"
        },
        "colab": {
          "base_uri": "https://localhost:8080/",
          "height": 383
        },
        "collapsed": true,
        "id": "udc_2Bz0t0uJ",
        "outputId": "5fe972b5-b11a-4237-fb0a-960ea04a3899"
      },
      "outputs": [
        {
          "data": {
            "application/vnd.microsoft.datawrangler.viewer.v0+json": {
              "columns": [
                {
                  "name": "index",
                  "rawType": "int64",
                  "type": "integer"
                },
                {
                  "name": "alcohol",
                  "rawType": "float64",
                  "type": "float"
                },
                {
                  "name": "malic_acid",
                  "rawType": "float64",
                  "type": "float"
                },
                {
                  "name": "ash",
                  "rawType": "float64",
                  "type": "float"
                },
                {
                  "name": "alcalinity_of_ash",
                  "rawType": "float64",
                  "type": "float"
                },
                {
                  "name": "magnesium",
                  "rawType": "float64",
                  "type": "float"
                },
                {
                  "name": "total_phenols",
                  "rawType": "float64",
                  "type": "float"
                },
                {
                  "name": "flavanoids",
                  "rawType": "float64",
                  "type": "float"
                },
                {
                  "name": "nonflavanoid_phenols",
                  "rawType": "float64",
                  "type": "float"
                },
                {
                  "name": "proanthocyanins",
                  "rawType": "float64",
                  "type": "float"
                },
                {
                  "name": "color_intensity",
                  "rawType": "float64",
                  "type": "float"
                },
                {
                  "name": "hue",
                  "rawType": "float64",
                  "type": "float"
                },
                {
                  "name": "od280/od315_of_diluted_wines",
                  "rawType": "float64",
                  "type": "float"
                },
                {
                  "name": "proline",
                  "rawType": "float64",
                  "type": "float"
                }
              ],
              "conversionMethod": "pd.DataFrame",
              "ref": "bbd1f4ad-d547-41f5-80df-e813a0c9bcd7",
              "rows": [
                [
                  "0",
                  "14.23",
                  "1.71",
                  "2.43",
                  "15.6",
                  "127.0",
                  "2.8",
                  "3.06",
                  "0.28",
                  "2.29",
                  "5.64",
                  "1.04",
                  "3.92",
                  "1065.0"
                ],
                [
                  "1",
                  "13.2",
                  "1.78",
                  "2.14",
                  "11.2",
                  "100.0",
                  "2.65",
                  "2.76",
                  "0.26",
                  "1.28",
                  "4.38",
                  "1.05",
                  "3.4",
                  "1050.0"
                ],
                [
                  "2",
                  "13.16",
                  "2.36",
                  "2.67",
                  "18.6",
                  "101.0",
                  "2.8",
                  "3.24",
                  "0.3",
                  "2.81",
                  "5.68",
                  "1.03",
                  "3.17",
                  "1185.0"
                ],
                [
                  "3",
                  "14.37",
                  "1.95",
                  "2.5",
                  "16.8",
                  "113.0",
                  "3.85",
                  "3.49",
                  "0.24",
                  "2.18",
                  "7.8",
                  "0.86",
                  "3.45",
                  "1480.0"
                ],
                [
                  "4",
                  "13.24",
                  "2.59",
                  "2.87",
                  "21.0",
                  "118.0",
                  "2.8",
                  "2.69",
                  "0.39",
                  "1.82",
                  "4.32",
                  "1.04",
                  "2.93",
                  "735.0"
                ],
                [
                  "5",
                  "14.2",
                  "1.76",
                  "2.45",
                  "15.2",
                  "112.0",
                  "3.27",
                  "3.39",
                  "0.34",
                  "1.97",
                  "6.75",
                  "1.05",
                  "2.85",
                  "1450.0"
                ],
                [
                  "6",
                  "14.39",
                  "1.87",
                  "2.45",
                  "14.6",
                  "96.0",
                  "2.5",
                  "2.52",
                  "0.3",
                  "1.98",
                  "5.25",
                  "1.02",
                  "3.58",
                  "1290.0"
                ],
                [
                  "7",
                  "14.06",
                  "2.15",
                  "2.61",
                  "17.6",
                  "121.0",
                  "2.6",
                  "2.51",
                  "0.31",
                  "1.25",
                  "5.05",
                  "1.06",
                  "3.58",
                  "1295.0"
                ],
                [
                  "8",
                  "14.83",
                  "1.64",
                  "2.17",
                  "14.0",
                  "97.0",
                  "2.8",
                  "2.98",
                  "0.29",
                  "1.98",
                  "5.2",
                  "1.08",
                  "2.85",
                  "1045.0"
                ],
                [
                  "9",
                  "13.86",
                  "1.35",
                  "2.27",
                  "16.0",
                  "98.0",
                  "2.98",
                  "3.15",
                  "0.22",
                  "1.85",
                  "7.22",
                  "1.01",
                  "3.55",
                  "1045.0"
                ]
              ],
              "shape": {
                "columns": 13,
                "rows": 10
              }
            },
            "text/html": [
              "<div>\n",
              "<style scoped>\n",
              "    .dataframe tbody tr th:only-of-type {\n",
              "        vertical-align: middle;\n",
              "    }\n",
              "\n",
              "    .dataframe tbody tr th {\n",
              "        vertical-align: top;\n",
              "    }\n",
              "\n",
              "    .dataframe thead th {\n",
              "        text-align: right;\n",
              "    }\n",
              "</style>\n",
              "<table border=\"1\" class=\"dataframe\">\n",
              "  <thead>\n",
              "    <tr style=\"text-align: right;\">\n",
              "      <th></th>\n",
              "      <th>alcohol</th>\n",
              "      <th>malic_acid</th>\n",
              "      <th>ash</th>\n",
              "      <th>alcalinity_of_ash</th>\n",
              "      <th>magnesium</th>\n",
              "      <th>total_phenols</th>\n",
              "      <th>flavanoids</th>\n",
              "      <th>nonflavanoid_phenols</th>\n",
              "      <th>proanthocyanins</th>\n",
              "      <th>color_intensity</th>\n",
              "      <th>hue</th>\n",
              "      <th>od280/od315_of_diluted_wines</th>\n",
              "      <th>proline</th>\n",
              "    </tr>\n",
              "  </thead>\n",
              "  <tbody>\n",
              "    <tr>\n",
              "      <th>0</th>\n",
              "      <td>14.23</td>\n",
              "      <td>1.71</td>\n",
              "      <td>2.43</td>\n",
              "      <td>15.6</td>\n",
              "      <td>127.0</td>\n",
              "      <td>2.80</td>\n",
              "      <td>3.06</td>\n",
              "      <td>0.28</td>\n",
              "      <td>2.29</td>\n",
              "      <td>5.64</td>\n",
              "      <td>1.04</td>\n",
              "      <td>3.92</td>\n",
              "      <td>1065.0</td>\n",
              "    </tr>\n",
              "    <tr>\n",
              "      <th>1</th>\n",
              "      <td>13.20</td>\n",
              "      <td>1.78</td>\n",
              "      <td>2.14</td>\n",
              "      <td>11.2</td>\n",
              "      <td>100.0</td>\n",
              "      <td>2.65</td>\n",
              "      <td>2.76</td>\n",
              "      <td>0.26</td>\n",
              "      <td>1.28</td>\n",
              "      <td>4.38</td>\n",
              "      <td>1.05</td>\n",
              "      <td>3.40</td>\n",
              "      <td>1050.0</td>\n",
              "    </tr>\n",
              "    <tr>\n",
              "      <th>2</th>\n",
              "      <td>13.16</td>\n",
              "      <td>2.36</td>\n",
              "      <td>2.67</td>\n",
              "      <td>18.6</td>\n",
              "      <td>101.0</td>\n",
              "      <td>2.80</td>\n",
              "      <td>3.24</td>\n",
              "      <td>0.30</td>\n",
              "      <td>2.81</td>\n",
              "      <td>5.68</td>\n",
              "      <td>1.03</td>\n",
              "      <td>3.17</td>\n",
              "      <td>1185.0</td>\n",
              "    </tr>\n",
              "    <tr>\n",
              "      <th>3</th>\n",
              "      <td>14.37</td>\n",
              "      <td>1.95</td>\n",
              "      <td>2.50</td>\n",
              "      <td>16.8</td>\n",
              "      <td>113.0</td>\n",
              "      <td>3.85</td>\n",
              "      <td>3.49</td>\n",
              "      <td>0.24</td>\n",
              "      <td>2.18</td>\n",
              "      <td>7.80</td>\n",
              "      <td>0.86</td>\n",
              "      <td>3.45</td>\n",
              "      <td>1480.0</td>\n",
              "    </tr>\n",
              "    <tr>\n",
              "      <th>4</th>\n",
              "      <td>13.24</td>\n",
              "      <td>2.59</td>\n",
              "      <td>2.87</td>\n",
              "      <td>21.0</td>\n",
              "      <td>118.0</td>\n",
              "      <td>2.80</td>\n",
              "      <td>2.69</td>\n",
              "      <td>0.39</td>\n",
              "      <td>1.82</td>\n",
              "      <td>4.32</td>\n",
              "      <td>1.04</td>\n",
              "      <td>2.93</td>\n",
              "      <td>735.0</td>\n",
              "    </tr>\n",
              "    <tr>\n",
              "      <th>5</th>\n",
              "      <td>14.20</td>\n",
              "      <td>1.76</td>\n",
              "      <td>2.45</td>\n",
              "      <td>15.2</td>\n",
              "      <td>112.0</td>\n",
              "      <td>3.27</td>\n",
              "      <td>3.39</td>\n",
              "      <td>0.34</td>\n",
              "      <td>1.97</td>\n",
              "      <td>6.75</td>\n",
              "      <td>1.05</td>\n",
              "      <td>2.85</td>\n",
              "      <td>1450.0</td>\n",
              "    </tr>\n",
              "    <tr>\n",
              "      <th>6</th>\n",
              "      <td>14.39</td>\n",
              "      <td>1.87</td>\n",
              "      <td>2.45</td>\n",
              "      <td>14.6</td>\n",
              "      <td>96.0</td>\n",
              "      <td>2.50</td>\n",
              "      <td>2.52</td>\n",
              "      <td>0.30</td>\n",
              "      <td>1.98</td>\n",
              "      <td>5.25</td>\n",
              "      <td>1.02</td>\n",
              "      <td>3.58</td>\n",
              "      <td>1290.0</td>\n",
              "    </tr>\n",
              "    <tr>\n",
              "      <th>7</th>\n",
              "      <td>14.06</td>\n",
              "      <td>2.15</td>\n",
              "      <td>2.61</td>\n",
              "      <td>17.6</td>\n",
              "      <td>121.0</td>\n",
              "      <td>2.60</td>\n",
              "      <td>2.51</td>\n",
              "      <td>0.31</td>\n",
              "      <td>1.25</td>\n",
              "      <td>5.05</td>\n",
              "      <td>1.06</td>\n",
              "      <td>3.58</td>\n",
              "      <td>1295.0</td>\n",
              "    </tr>\n",
              "    <tr>\n",
              "      <th>8</th>\n",
              "      <td>14.83</td>\n",
              "      <td>1.64</td>\n",
              "      <td>2.17</td>\n",
              "      <td>14.0</td>\n",
              "      <td>97.0</td>\n",
              "      <td>2.80</td>\n",
              "      <td>2.98</td>\n",
              "      <td>0.29</td>\n",
              "      <td>1.98</td>\n",
              "      <td>5.20</td>\n",
              "      <td>1.08</td>\n",
              "      <td>2.85</td>\n",
              "      <td>1045.0</td>\n",
              "    </tr>\n",
              "    <tr>\n",
              "      <th>9</th>\n",
              "      <td>13.86</td>\n",
              "      <td>1.35</td>\n",
              "      <td>2.27</td>\n",
              "      <td>16.0</td>\n",
              "      <td>98.0</td>\n",
              "      <td>2.98</td>\n",
              "      <td>3.15</td>\n",
              "      <td>0.22</td>\n",
              "      <td>1.85</td>\n",
              "      <td>7.22</td>\n",
              "      <td>1.01</td>\n",
              "      <td>3.55</td>\n",
              "      <td>1045.0</td>\n",
              "    </tr>\n",
              "  </tbody>\n",
              "</table>\n",
              "</div>"
            ],
            "text/plain": [
              "   alcohol  malic_acid   ash  alcalinity_of_ash  magnesium  total_phenols  \\\n",
              "0    14.23        1.71  2.43               15.6      127.0           2.80   \n",
              "1    13.20        1.78  2.14               11.2      100.0           2.65   \n",
              "2    13.16        2.36  2.67               18.6      101.0           2.80   \n",
              "3    14.37        1.95  2.50               16.8      113.0           3.85   \n",
              "4    13.24        2.59  2.87               21.0      118.0           2.80   \n",
              "5    14.20        1.76  2.45               15.2      112.0           3.27   \n",
              "6    14.39        1.87  2.45               14.6       96.0           2.50   \n",
              "7    14.06        2.15  2.61               17.6      121.0           2.60   \n",
              "8    14.83        1.64  2.17               14.0       97.0           2.80   \n",
              "9    13.86        1.35  2.27               16.0       98.0           2.98   \n",
              "\n",
              "   flavanoids  nonflavanoid_phenols  proanthocyanins  color_intensity   hue  \\\n",
              "0        3.06                  0.28             2.29             5.64  1.04   \n",
              "1        2.76                  0.26             1.28             4.38  1.05   \n",
              "2        3.24                  0.30             2.81             5.68  1.03   \n",
              "3        3.49                  0.24             2.18             7.80  0.86   \n",
              "4        2.69                  0.39             1.82             4.32  1.04   \n",
              "5        3.39                  0.34             1.97             6.75  1.05   \n",
              "6        2.52                  0.30             1.98             5.25  1.02   \n",
              "7        2.51                  0.31             1.25             5.05  1.06   \n",
              "8        2.98                  0.29             1.98             5.20  1.08   \n",
              "9        3.15                  0.22             1.85             7.22  1.01   \n",
              "\n",
              "   od280/od315_of_diluted_wines  proline  \n",
              "0                          3.92   1065.0  \n",
              "1                          3.40   1050.0  \n",
              "2                          3.17   1185.0  \n",
              "3                          3.45   1480.0  \n",
              "4                          2.93    735.0  \n",
              "5                          2.85   1450.0  \n",
              "6                          3.58   1290.0  \n",
              "7                          3.58   1295.0  \n",
              "8                          2.85   1045.0  \n",
              "9                          3.55   1045.0  "
            ]
          },
          "execution_count": 8,
          "metadata": {},
          "output_type": "execute_result"
        }
      ],
      "source": [
        "# ===== 以下に解答のコードを入力して下さい =====\n",
        "wine_df.head(10)"
      ]
    },
    {
      "cell_type": "markdown",
      "id": "mhtL-R9Nt0uJ",
      "metadata": {
        "collapsed": false,
        "id": "mhtL-R9Nt0uJ"
      },
      "source": [
        "### 問題1-4\n",
        "\n",
        "`wine_df` の行数、列数を確認しましょう。(※ヒントは[こちら](https://pandas.pydata.org/docs/reference/api/pandas.DataFrame.shape.html))"
      ]
    },
    {
      "cell_type": "code",
      "execution_count": 9,
      "id": "GUAaU5hnt0uJ",
      "metadata": {
        "ExecuteTime": {
          "end_time": "2024-01-30T09:43:30.572417Z",
          "start_time": "2024-01-30T09:43:30.531643Z"
        },
        "colab": {
          "base_uri": "https://localhost:8080/"
        },
        "id": "GUAaU5hnt0uJ",
        "outputId": "7418e1ba-d7df-4865-cc58-3a70f262b046"
      },
      "outputs": [
        {
          "data": {
            "text/plain": [
              "(178, 13)"
            ]
          },
          "execution_count": 9,
          "metadata": {},
          "output_type": "execute_result"
        }
      ],
      "source": [
        "# ===== 以下に解答のコードを入力して下さい =====\n",
        "wine_df.shape"
      ]
    },
    {
      "cell_type": "markdown",
      "id": "i9VvnGEMt0uJ",
      "metadata": {
        "collapsed": false,
        "id": "i9VvnGEMt0uJ"
      },
      "source": [
        "### 問題1-5\n",
        "\n",
        "`wine_df` の列名の一覧を確認しましょう。(※ヒントは[こちら](https://pandas.pydata.org/docs/reference/api/pandas.DataFrame.columns.html))"
      ]
    },
    {
      "cell_type": "code",
      "execution_count": 10,
      "id": "rvQ2quZnt0uJ",
      "metadata": {
        "ExecuteTime": {
          "end_time": "2024-01-30T09:43:30.572551Z",
          "start_time": "2024-01-30T09:43:30.534718Z"
        },
        "colab": {
          "base_uri": "https://localhost:8080/"
        },
        "id": "rvQ2quZnt0uJ",
        "outputId": "219a7ebb-c413-44e6-f878-ed359dd85909"
      },
      "outputs": [
        {
          "data": {
            "text/plain": [
              "Index(['alcohol', 'malic_acid', 'ash', 'alcalinity_of_ash', 'magnesium',\n",
              "       'total_phenols', 'flavanoids', 'nonflavanoid_phenols',\n",
              "       'proanthocyanins', 'color_intensity', 'hue',\n",
              "       'od280/od315_of_diluted_wines', 'proline'],\n",
              "      dtype='object')"
            ]
          },
          "execution_count": 10,
          "metadata": {},
          "output_type": "execute_result"
        }
      ],
      "source": [
        "# ===== 以下に解答のコードを入力して下さい =====\n",
        "wine_df.columns"
      ]
    },
    {
      "cell_type": "markdown",
      "id": "caAYWQxvt0uJ",
      "metadata": {
        "collapsed": false,
        "id": "caAYWQxvt0uJ"
      },
      "source": [
        "### 問題1-6\n",
        "\n",
        "`wine_df` から、列 `alcohol` を取得してみましょう。"
      ]
    },
    {
      "cell_type": "code",
      "execution_count": 11,
      "id": "sDXBY5Ogt0uJ",
      "metadata": {
        "ExecuteTime": {
          "end_time": "2024-01-30T09:43:30.572751Z",
          "start_time": "2024-01-30T09:43:30.538581Z"
        },
        "colab": {
          "base_uri": "https://localhost:8080/",
          "height": 458
        },
        "id": "sDXBY5Ogt0uJ",
        "outputId": "877efbb6-2479-45be-aba6-7506af02710e"
      },
      "outputs": [
        {
          "data": {
            "text/plain": [
              "0      14.23\n",
              "1      13.20\n",
              "2      13.16\n",
              "3      14.37\n",
              "4      13.24\n",
              "       ...  \n",
              "173    13.71\n",
              "174    13.40\n",
              "175    13.27\n",
              "176    13.17\n",
              "177    14.13\n",
              "Name: alcohol, Length: 178, dtype: float64"
            ]
          },
          "execution_count": 11,
          "metadata": {},
          "output_type": "execute_result"
        }
      ],
      "source": [
        "# ===== 以下に解答のコードを入力して下さい =====\n",
        "wine_df.loc[:, \"alcohol\"]"
      ]
    },
    {
      "cell_type": "markdown",
      "id": "yWLBdIfPt0uK",
      "metadata": {
        "collapsed": false,
        "id": "yWLBdIfPt0uK"
      },
      "source": [
        "### 問題1-7\n",
        "\n",
        "`wine_df` から、列 `color_intensity`, `hue` を取得してみましょう。"
      ]
    },
    {
      "cell_type": "code",
      "execution_count": 12,
      "id": "WjZ2XcAWt0uK",
      "metadata": {
        "ExecuteTime": {
          "end_time": "2024-01-30T09:43:30.572877Z",
          "start_time": "2024-01-30T09:43:30.544578Z"
        },
        "colab": {
          "base_uri": "https://localhost:8080/",
          "height": 424
        },
        "id": "WjZ2XcAWt0uK",
        "outputId": "b3442fa9-b537-4ae8-c6f3-0e09d6d6de64"
      },
      "outputs": [
        {
          "data": {
            "application/vnd.microsoft.datawrangler.viewer.v0+json": {
              "columns": [
                {
                  "name": "index",
                  "rawType": "int64",
                  "type": "integer"
                },
                {
                  "name": "color_intensity",
                  "rawType": "float64",
                  "type": "float"
                },
                {
                  "name": "hue",
                  "rawType": "float64",
                  "type": "float"
                }
              ],
              "conversionMethod": "pd.DataFrame",
              "ref": "9e277cc5-d7d5-4b84-a93f-479c07d489cf",
              "rows": [
                [
                  "0",
                  "5.64",
                  "1.04"
                ],
                [
                  "1",
                  "4.38",
                  "1.05"
                ],
                [
                  "2",
                  "5.68",
                  "1.03"
                ],
                [
                  "3",
                  "7.8",
                  "0.86"
                ],
                [
                  "4",
                  "4.32",
                  "1.04"
                ],
                [
                  "5",
                  "6.75",
                  "1.05"
                ],
                [
                  "6",
                  "5.25",
                  "1.02"
                ],
                [
                  "7",
                  "5.05",
                  "1.06"
                ],
                [
                  "8",
                  "5.2",
                  "1.08"
                ],
                [
                  "9",
                  "7.22",
                  "1.01"
                ],
                [
                  "10",
                  "5.75",
                  "1.25"
                ],
                [
                  "11",
                  "5.0",
                  "1.17"
                ],
                [
                  "12",
                  "5.6",
                  "1.15"
                ],
                [
                  "13",
                  "5.4",
                  "1.25"
                ],
                [
                  "14",
                  "7.5",
                  "1.2"
                ],
                [
                  "15",
                  "7.3",
                  "1.28"
                ],
                [
                  "16",
                  "6.2",
                  "1.07"
                ],
                [
                  "17",
                  "6.6",
                  "1.13"
                ],
                [
                  "18",
                  "8.7",
                  "1.23"
                ],
                [
                  "19",
                  "5.1",
                  "0.96"
                ],
                [
                  "20",
                  "5.65",
                  "1.09"
                ],
                [
                  "21",
                  "4.5",
                  "1.03"
                ],
                [
                  "22",
                  "3.8",
                  "1.11"
                ],
                [
                  "23",
                  "3.93",
                  "1.09"
                ],
                [
                  "24",
                  "3.52",
                  "1.12"
                ],
                [
                  "25",
                  "3.58",
                  "1.13"
                ],
                [
                  "26",
                  "4.8",
                  "0.92"
                ],
                [
                  "27",
                  "3.95",
                  "1.02"
                ],
                [
                  "28",
                  "4.5",
                  "1.25"
                ],
                [
                  "29",
                  "4.7",
                  "1.04"
                ],
                [
                  "30",
                  "5.7",
                  "1.19"
                ],
                [
                  "31",
                  "6.9",
                  "1.09"
                ],
                [
                  "32",
                  "3.84",
                  "1.23"
                ],
                [
                  "33",
                  "5.4",
                  "1.25"
                ],
                [
                  "34",
                  "4.2",
                  "1.1"
                ],
                [
                  "35",
                  "5.1",
                  "1.04"
                ],
                [
                  "36",
                  "4.6",
                  "1.09"
                ],
                [
                  "37",
                  "4.25",
                  "1.12"
                ],
                [
                  "38",
                  "3.7",
                  "1.18"
                ],
                [
                  "39",
                  "5.1",
                  "0.89"
                ],
                [
                  "40",
                  "6.13",
                  "0.95"
                ],
                [
                  "41",
                  "4.28",
                  "0.91"
                ],
                [
                  "42",
                  "5.43",
                  "0.88"
                ],
                [
                  "43",
                  "4.36",
                  "0.82"
                ],
                [
                  "44",
                  "5.04",
                  "0.88"
                ],
                [
                  "45",
                  "5.24",
                  "0.87"
                ],
                [
                  "46",
                  "4.9",
                  "1.04"
                ],
                [
                  "47",
                  "6.1",
                  "0.91"
                ],
                [
                  "48",
                  "6.2",
                  "1.07"
                ],
                [
                  "49",
                  "8.9",
                  "1.12"
                ]
              ],
              "shape": {
                "columns": 2,
                "rows": 178
              }
            },
            "text/html": [
              "<div>\n",
              "<style scoped>\n",
              "    .dataframe tbody tr th:only-of-type {\n",
              "        vertical-align: middle;\n",
              "    }\n",
              "\n",
              "    .dataframe tbody tr th {\n",
              "        vertical-align: top;\n",
              "    }\n",
              "\n",
              "    .dataframe thead th {\n",
              "        text-align: right;\n",
              "    }\n",
              "</style>\n",
              "<table border=\"1\" class=\"dataframe\">\n",
              "  <thead>\n",
              "    <tr style=\"text-align: right;\">\n",
              "      <th></th>\n",
              "      <th>color_intensity</th>\n",
              "      <th>hue</th>\n",
              "    </tr>\n",
              "  </thead>\n",
              "  <tbody>\n",
              "    <tr>\n",
              "      <th>0</th>\n",
              "      <td>5.64</td>\n",
              "      <td>1.04</td>\n",
              "    </tr>\n",
              "    <tr>\n",
              "      <th>1</th>\n",
              "      <td>4.38</td>\n",
              "      <td>1.05</td>\n",
              "    </tr>\n",
              "    <tr>\n",
              "      <th>2</th>\n",
              "      <td>5.68</td>\n",
              "      <td>1.03</td>\n",
              "    </tr>\n",
              "    <tr>\n",
              "      <th>3</th>\n",
              "      <td>7.80</td>\n",
              "      <td>0.86</td>\n",
              "    </tr>\n",
              "    <tr>\n",
              "      <th>4</th>\n",
              "      <td>4.32</td>\n",
              "      <td>1.04</td>\n",
              "    </tr>\n",
              "    <tr>\n",
              "      <th>...</th>\n",
              "      <td>...</td>\n",
              "      <td>...</td>\n",
              "    </tr>\n",
              "    <tr>\n",
              "      <th>173</th>\n",
              "      <td>7.70</td>\n",
              "      <td>0.64</td>\n",
              "    </tr>\n",
              "    <tr>\n",
              "      <th>174</th>\n",
              "      <td>7.30</td>\n",
              "      <td>0.70</td>\n",
              "    </tr>\n",
              "    <tr>\n",
              "      <th>175</th>\n",
              "      <td>10.20</td>\n",
              "      <td>0.59</td>\n",
              "    </tr>\n",
              "    <tr>\n",
              "      <th>176</th>\n",
              "      <td>9.30</td>\n",
              "      <td>0.60</td>\n",
              "    </tr>\n",
              "    <tr>\n",
              "      <th>177</th>\n",
              "      <td>9.20</td>\n",
              "      <td>0.61</td>\n",
              "    </tr>\n",
              "  </tbody>\n",
              "</table>\n",
              "<p>178 rows × 2 columns</p>\n",
              "</div>"
            ],
            "text/plain": [
              "     color_intensity   hue\n",
              "0               5.64  1.04\n",
              "1               4.38  1.05\n",
              "2               5.68  1.03\n",
              "3               7.80  0.86\n",
              "4               4.32  1.04\n",
              "..               ...   ...\n",
              "173             7.70  0.64\n",
              "174             7.30  0.70\n",
              "175            10.20  0.59\n",
              "176             9.30  0.60\n",
              "177             9.20  0.61\n",
              "\n",
              "[178 rows x 2 columns]"
            ]
          },
          "execution_count": 12,
          "metadata": {},
          "output_type": "execute_result"
        }
      ],
      "source": [
        "# ===== 以下に解答のコードを入力して下さい =====\n",
        "wine_df.loc[:, [\"color_intensity\", \"hue\"]]"
      ]
    },
    {
      "cell_type": "markdown",
      "id": "fSGwoJDat0uK",
      "metadata": {
        "collapsed": false,
        "id": "fSGwoJDat0uK"
      },
      "source": [
        "## 問題2 データ操作\n",
        "\n",
        "dataframe に対する操作を実践してみましょう。"
      ]
    },
    {
      "cell_type": "markdown",
      "id": "2YMscOqGt0uK",
      "metadata": {
        "collapsed": false,
        "id": "2YMscOqGt0uK"
      },
      "source": [
        "### 問題2-1\n",
        "\n",
        "`wine_df` から `magnesium` の値が `100` 以上の行を抽出して、Notebook に表示してみましょう。(※ヒントは[こちら](https://pandas.pydata.org/docs/reference/api/pandas.DataFrame.loc.html))\n",
        "\n",
        "また `magnesium` の値が `100` 以上のものはいくつありますか？"
      ]
    },
    {
      "cell_type": "code",
      "execution_count": 13,
      "id": "yyZTA0_ot0uK",
      "metadata": {
        "ExecuteTime": {
          "end_time": "2024-01-30T09:43:30.572958Z",
          "start_time": "2024-01-30T09:43:30.555459Z"
        },
        "colab": {
          "base_uri": "https://localhost:8080/",
          "height": 444
        },
        "id": "yyZTA0_ot0uK",
        "outputId": "c7fc9bb1-38bf-4d9e-9496-bad619b9bcc7"
      },
      "outputs": [
        {
          "data": {
            "application/vnd.microsoft.datawrangler.viewer.v0+json": {
              "columns": [
                {
                  "name": "index",
                  "rawType": "int64",
                  "type": "integer"
                },
                {
                  "name": "alcohol",
                  "rawType": "float64",
                  "type": "float"
                },
                {
                  "name": "malic_acid",
                  "rawType": "float64",
                  "type": "float"
                },
                {
                  "name": "ash",
                  "rawType": "float64",
                  "type": "float"
                },
                {
                  "name": "alcalinity_of_ash",
                  "rawType": "float64",
                  "type": "float"
                },
                {
                  "name": "magnesium",
                  "rawType": "float64",
                  "type": "float"
                },
                {
                  "name": "total_phenols",
                  "rawType": "float64",
                  "type": "float"
                },
                {
                  "name": "flavanoids",
                  "rawType": "float64",
                  "type": "float"
                },
                {
                  "name": "nonflavanoid_phenols",
                  "rawType": "float64",
                  "type": "float"
                },
                {
                  "name": "proanthocyanins",
                  "rawType": "float64",
                  "type": "float"
                },
                {
                  "name": "color_intensity",
                  "rawType": "float64",
                  "type": "float"
                },
                {
                  "name": "hue",
                  "rawType": "float64",
                  "type": "float"
                },
                {
                  "name": "od280/od315_of_diluted_wines",
                  "rawType": "float64",
                  "type": "float"
                },
                {
                  "name": "proline",
                  "rawType": "float64",
                  "type": "float"
                }
              ],
              "conversionMethod": "pd.DataFrame",
              "ref": "729d7e38-1d5c-4d69-82e8-ab0939eef711",
              "rows": [
                [
                  "0",
                  "14.23",
                  "1.71",
                  "2.43",
                  "15.6",
                  "127.0",
                  "2.8",
                  "3.06",
                  "0.28",
                  "2.29",
                  "5.64",
                  "1.04",
                  "3.92",
                  "1065.0"
                ],
                [
                  "1",
                  "13.2",
                  "1.78",
                  "2.14",
                  "11.2",
                  "100.0",
                  "2.65",
                  "2.76",
                  "0.26",
                  "1.28",
                  "4.38",
                  "1.05",
                  "3.4",
                  "1050.0"
                ],
                [
                  "2",
                  "13.16",
                  "2.36",
                  "2.67",
                  "18.6",
                  "101.0",
                  "2.8",
                  "3.24",
                  "0.3",
                  "2.81",
                  "5.68",
                  "1.03",
                  "3.17",
                  "1185.0"
                ],
                [
                  "3",
                  "14.37",
                  "1.95",
                  "2.5",
                  "16.8",
                  "113.0",
                  "3.85",
                  "3.49",
                  "0.24",
                  "2.18",
                  "7.8",
                  "0.86",
                  "3.45",
                  "1480.0"
                ],
                [
                  "4",
                  "13.24",
                  "2.59",
                  "2.87",
                  "21.0",
                  "118.0",
                  "2.8",
                  "2.69",
                  "0.39",
                  "1.82",
                  "4.32",
                  "1.04",
                  "2.93",
                  "735.0"
                ],
                [
                  "5",
                  "14.2",
                  "1.76",
                  "2.45",
                  "15.2",
                  "112.0",
                  "3.27",
                  "3.39",
                  "0.34",
                  "1.97",
                  "6.75",
                  "1.05",
                  "2.85",
                  "1450.0"
                ],
                [
                  "7",
                  "14.06",
                  "2.15",
                  "2.61",
                  "17.6",
                  "121.0",
                  "2.6",
                  "2.51",
                  "0.31",
                  "1.25",
                  "5.05",
                  "1.06",
                  "3.58",
                  "1295.0"
                ],
                [
                  "10",
                  "14.1",
                  "2.16",
                  "2.3",
                  "18.0",
                  "105.0",
                  "2.95",
                  "3.32",
                  "0.22",
                  "2.38",
                  "5.75",
                  "1.25",
                  "3.17",
                  "1510.0"
                ],
                [
                  "14",
                  "14.38",
                  "1.87",
                  "2.38",
                  "12.0",
                  "102.0",
                  "3.3",
                  "3.64",
                  "0.29",
                  "2.96",
                  "7.5",
                  "1.2",
                  "3.0",
                  "1547.0"
                ],
                [
                  "15",
                  "13.63",
                  "1.81",
                  "2.7",
                  "17.2",
                  "112.0",
                  "2.85",
                  "2.91",
                  "0.3",
                  "1.46",
                  "7.3",
                  "1.28",
                  "2.88",
                  "1310.0"
                ],
                [
                  "16",
                  "14.3",
                  "1.92",
                  "2.72",
                  "20.0",
                  "120.0",
                  "2.8",
                  "3.14",
                  "0.33",
                  "1.97",
                  "6.2",
                  "1.07",
                  "2.65",
                  "1280.0"
                ],
                [
                  "17",
                  "13.83",
                  "1.57",
                  "2.62",
                  "20.0",
                  "115.0",
                  "2.95",
                  "3.4",
                  "0.4",
                  "1.72",
                  "6.6",
                  "1.13",
                  "2.57",
                  "1130.0"
                ],
                [
                  "18",
                  "14.19",
                  "1.59",
                  "2.48",
                  "16.5",
                  "108.0",
                  "3.3",
                  "3.93",
                  "0.32",
                  "1.86",
                  "8.7",
                  "1.23",
                  "2.82",
                  "1680.0"
                ],
                [
                  "19",
                  "13.64",
                  "3.1",
                  "2.56",
                  "15.2",
                  "116.0",
                  "2.7",
                  "3.03",
                  "0.17",
                  "1.66",
                  "5.1",
                  "0.96",
                  "3.36",
                  "845.0"
                ],
                [
                  "20",
                  "14.06",
                  "1.63",
                  "2.28",
                  "16.0",
                  "126.0",
                  "3.0",
                  "3.17",
                  "0.24",
                  "2.1",
                  "5.65",
                  "1.09",
                  "3.71",
                  "780.0"
                ],
                [
                  "21",
                  "12.93",
                  "3.8",
                  "2.65",
                  "18.6",
                  "102.0",
                  "2.41",
                  "2.41",
                  "0.25",
                  "1.98",
                  "4.5",
                  "1.03",
                  "3.52",
                  "770.0"
                ],
                [
                  "22",
                  "13.71",
                  "1.86",
                  "2.36",
                  "16.6",
                  "101.0",
                  "2.61",
                  "2.88",
                  "0.27",
                  "1.69",
                  "3.8",
                  "1.11",
                  "4.0",
                  "1035.0"
                ],
                [
                  "25",
                  "13.05",
                  "2.05",
                  "3.22",
                  "25.0",
                  "124.0",
                  "2.63",
                  "2.68",
                  "0.47",
                  "1.92",
                  "3.58",
                  "1.13",
                  "3.2",
                  "830.0"
                ],
                [
                  "28",
                  "13.87",
                  "1.9",
                  "2.8",
                  "19.4",
                  "107.0",
                  "2.95",
                  "2.97",
                  "0.37",
                  "1.76",
                  "4.5",
                  "1.25",
                  "3.4",
                  "915.0"
                ],
                [
                  "30",
                  "13.73",
                  "1.5",
                  "2.7",
                  "22.5",
                  "101.0",
                  "3.0",
                  "3.25",
                  "0.29",
                  "2.38",
                  "5.7",
                  "1.19",
                  "2.71",
                  "1285.0"
                ],
                [
                  "31",
                  "13.58",
                  "1.66",
                  "2.36",
                  "19.1",
                  "106.0",
                  "2.86",
                  "3.19",
                  "0.22",
                  "1.95",
                  "6.9",
                  "1.09",
                  "2.88",
                  "1515.0"
                ],
                [
                  "32",
                  "13.68",
                  "1.83",
                  "2.36",
                  "17.2",
                  "104.0",
                  "2.42",
                  "2.69",
                  "0.42",
                  "1.97",
                  "3.84",
                  "1.23",
                  "2.87",
                  "990.0"
                ],
                [
                  "33",
                  "13.76",
                  "1.53",
                  "2.7",
                  "19.5",
                  "132.0",
                  "2.95",
                  "2.74",
                  "0.5",
                  "1.35",
                  "5.4",
                  "1.25",
                  "3.0",
                  "1235.0"
                ],
                [
                  "34",
                  "13.51",
                  "1.8",
                  "2.65",
                  "19.0",
                  "110.0",
                  "2.35",
                  "2.53",
                  "0.29",
                  "1.54",
                  "4.2",
                  "1.1",
                  "2.87",
                  "1095.0"
                ],
                [
                  "35",
                  "13.48",
                  "1.81",
                  "2.41",
                  "20.5",
                  "100.0",
                  "2.7",
                  "2.98",
                  "0.26",
                  "1.86",
                  "5.1",
                  "1.04",
                  "3.47",
                  "920.0"
                ],
                [
                  "36",
                  "13.28",
                  "1.64",
                  "2.84",
                  "15.5",
                  "110.0",
                  "2.6",
                  "2.68",
                  "0.34",
                  "1.36",
                  "4.6",
                  "1.09",
                  "2.78",
                  "880.0"
                ],
                [
                  "39",
                  "14.22",
                  "3.99",
                  "2.51",
                  "13.2",
                  "128.0",
                  "3.0",
                  "3.04",
                  "0.2",
                  "2.08",
                  "5.1",
                  "0.89",
                  "3.53",
                  "760.0"
                ],
                [
                  "40",
                  "13.56",
                  "1.71",
                  "2.31",
                  "16.2",
                  "117.0",
                  "3.15",
                  "3.29",
                  "0.34",
                  "2.34",
                  "6.13",
                  "0.95",
                  "3.38",
                  "795.0"
                ],
                [
                  "42",
                  "13.88",
                  "1.89",
                  "2.59",
                  "15.0",
                  "101.0",
                  "3.25",
                  "3.56",
                  "0.17",
                  "1.7",
                  "5.43",
                  "0.88",
                  "3.56",
                  "1095.0"
                ],
                [
                  "43",
                  "13.24",
                  "3.98",
                  "2.29",
                  "17.5",
                  "103.0",
                  "2.64",
                  "2.63",
                  "0.32",
                  "1.66",
                  "4.36",
                  "0.82",
                  "3.0",
                  "680.0"
                ],
                [
                  "44",
                  "13.05",
                  "1.77",
                  "2.1",
                  "17.0",
                  "107.0",
                  "3.0",
                  "3.0",
                  "0.28",
                  "2.03",
                  "5.04",
                  "0.88",
                  "3.35",
                  "885.0"
                ],
                [
                  "45",
                  "14.21",
                  "4.04",
                  "2.44",
                  "18.9",
                  "111.0",
                  "2.85",
                  "2.65",
                  "0.3",
                  "1.25",
                  "5.24",
                  "0.87",
                  "3.33",
                  "1080.0"
                ],
                [
                  "46",
                  "14.38",
                  "3.59",
                  "2.28",
                  "16.0",
                  "102.0",
                  "3.25",
                  "3.17",
                  "0.27",
                  "2.19",
                  "4.9",
                  "1.04",
                  "3.44",
                  "1065.0"
                ],
                [
                  "47",
                  "13.9",
                  "1.68",
                  "2.12",
                  "16.0",
                  "101.0",
                  "3.1",
                  "3.39",
                  "0.21",
                  "2.14",
                  "6.1",
                  "0.91",
                  "3.33",
                  "985.0"
                ],
                [
                  "48",
                  "14.1",
                  "2.02",
                  "2.4",
                  "18.8",
                  "103.0",
                  "2.75",
                  "2.92",
                  "0.32",
                  "2.38",
                  "6.2",
                  "1.07",
                  "2.75",
                  "1060.0"
                ],
                [
                  "49",
                  "13.94",
                  "1.73",
                  "2.27",
                  "17.4",
                  "108.0",
                  "2.88",
                  "3.54",
                  "0.32",
                  "2.08",
                  "8.9",
                  "1.12",
                  "3.1",
                  "1260.0"
                ],
                [
                  "52",
                  "13.82",
                  "1.75",
                  "2.42",
                  "14.0",
                  "111.0",
                  "3.88",
                  "3.74",
                  "0.32",
                  "1.87",
                  "7.05",
                  "1.01",
                  "3.26",
                  "1190.0"
                ],
                [
                  "53",
                  "13.77",
                  "1.9",
                  "2.68",
                  "17.1",
                  "115.0",
                  "3.0",
                  "2.79",
                  "0.39",
                  "1.68",
                  "6.3",
                  "1.13",
                  "2.93",
                  "1375.0"
                ],
                [
                  "54",
                  "13.74",
                  "1.67",
                  "2.25",
                  "16.4",
                  "118.0",
                  "2.6",
                  "2.9",
                  "0.21",
                  "1.62",
                  "5.85",
                  "0.92",
                  "3.2",
                  "1060.0"
                ],
                [
                  "55",
                  "13.56",
                  "1.73",
                  "2.46",
                  "20.5",
                  "116.0",
                  "2.96",
                  "2.78",
                  "0.2",
                  "2.45",
                  "6.25",
                  "0.98",
                  "3.03",
                  "1120.0"
                ],
                [
                  "56",
                  "14.22",
                  "1.7",
                  "2.3",
                  "16.3",
                  "118.0",
                  "3.2",
                  "3.0",
                  "0.26",
                  "2.03",
                  "6.38",
                  "0.94",
                  "3.31",
                  "970.0"
                ],
                [
                  "57",
                  "13.29",
                  "1.97",
                  "2.68",
                  "16.8",
                  "102.0",
                  "3.0",
                  "3.23",
                  "0.31",
                  "1.66",
                  "6.0",
                  "1.07",
                  "2.84",
                  "1270.0"
                ],
                [
                  "58",
                  "13.72",
                  "1.43",
                  "2.5",
                  "16.7",
                  "108.0",
                  "3.4",
                  "3.67",
                  "0.19",
                  "2.04",
                  "6.8",
                  "0.89",
                  "2.87",
                  "1285.0"
                ],
                [
                  "60",
                  "12.33",
                  "1.1",
                  "2.28",
                  "16.0",
                  "101.0",
                  "2.05",
                  "1.09",
                  "0.63",
                  "0.41",
                  "3.27",
                  "1.25",
                  "1.67",
                  "680.0"
                ],
                [
                  "61",
                  "12.64",
                  "1.36",
                  "2.02",
                  "16.8",
                  "100.0",
                  "2.02",
                  "1.41",
                  "0.53",
                  "0.62",
                  "5.75",
                  "0.98",
                  "1.59",
                  "450.0"
                ],
                [
                  "64",
                  "12.17",
                  "1.45",
                  "2.53",
                  "19.0",
                  "104.0",
                  "1.89",
                  "1.75",
                  "0.45",
                  "1.03",
                  "2.95",
                  "1.45",
                  "2.23",
                  "355.0"
                ],
                [
                  "68",
                  "13.34",
                  "0.94",
                  "2.36",
                  "17.0",
                  "110.0",
                  "2.53",
                  "1.3",
                  "0.55",
                  "0.42",
                  "3.17",
                  "1.02",
                  "1.93",
                  "750.0"
                ],
                [
                  "69",
                  "12.21",
                  "1.19",
                  "1.75",
                  "16.8",
                  "151.0",
                  "1.85",
                  "1.28",
                  "0.14",
                  "2.5",
                  "2.85",
                  "1.28",
                  "3.07",
                  "718.0"
                ],
                [
                  "70",
                  "12.29",
                  "1.61",
                  "2.21",
                  "20.4",
                  "103.0",
                  "1.1",
                  "1.02",
                  "0.37",
                  "1.46",
                  "3.05",
                  "0.906",
                  "1.82",
                  "870.0"
                ],
                [
                  "73",
                  "12.99",
                  "1.67",
                  "2.6",
                  "30.0",
                  "139.0",
                  "3.3",
                  "2.89",
                  "0.21",
                  "1.96",
                  "3.35",
                  "1.31",
                  "3.5",
                  "985.0"
                ]
              ],
              "shape": {
                "columns": 13,
                "rows": 81
              }
            },
            "text/html": [
              "<div>\n",
              "<style scoped>\n",
              "    .dataframe tbody tr th:only-of-type {\n",
              "        vertical-align: middle;\n",
              "    }\n",
              "\n",
              "    .dataframe tbody tr th {\n",
              "        vertical-align: top;\n",
              "    }\n",
              "\n",
              "    .dataframe thead th {\n",
              "        text-align: right;\n",
              "    }\n",
              "</style>\n",
              "<table border=\"1\" class=\"dataframe\">\n",
              "  <thead>\n",
              "    <tr style=\"text-align: right;\">\n",
              "      <th></th>\n",
              "      <th>alcohol</th>\n",
              "      <th>malic_acid</th>\n",
              "      <th>ash</th>\n",
              "      <th>alcalinity_of_ash</th>\n",
              "      <th>magnesium</th>\n",
              "      <th>total_phenols</th>\n",
              "      <th>flavanoids</th>\n",
              "      <th>nonflavanoid_phenols</th>\n",
              "      <th>proanthocyanins</th>\n",
              "      <th>color_intensity</th>\n",
              "      <th>hue</th>\n",
              "      <th>od280/od315_of_diluted_wines</th>\n",
              "      <th>proline</th>\n",
              "    </tr>\n",
              "  </thead>\n",
              "  <tbody>\n",
              "    <tr>\n",
              "      <th>0</th>\n",
              "      <td>14.23</td>\n",
              "      <td>1.71</td>\n",
              "      <td>2.43</td>\n",
              "      <td>15.6</td>\n",
              "      <td>127.0</td>\n",
              "      <td>2.80</td>\n",
              "      <td>3.06</td>\n",
              "      <td>0.28</td>\n",
              "      <td>2.29</td>\n",
              "      <td>5.64</td>\n",
              "      <td>1.04</td>\n",
              "      <td>3.92</td>\n",
              "      <td>1065.0</td>\n",
              "    </tr>\n",
              "    <tr>\n",
              "      <th>1</th>\n",
              "      <td>13.20</td>\n",
              "      <td>1.78</td>\n",
              "      <td>2.14</td>\n",
              "      <td>11.2</td>\n",
              "      <td>100.0</td>\n",
              "      <td>2.65</td>\n",
              "      <td>2.76</td>\n",
              "      <td>0.26</td>\n",
              "      <td>1.28</td>\n",
              "      <td>4.38</td>\n",
              "      <td>1.05</td>\n",
              "      <td>3.40</td>\n",
              "      <td>1050.0</td>\n",
              "    </tr>\n",
              "    <tr>\n",
              "      <th>2</th>\n",
              "      <td>13.16</td>\n",
              "      <td>2.36</td>\n",
              "      <td>2.67</td>\n",
              "      <td>18.6</td>\n",
              "      <td>101.0</td>\n",
              "      <td>2.80</td>\n",
              "      <td>3.24</td>\n",
              "      <td>0.30</td>\n",
              "      <td>2.81</td>\n",
              "      <td>5.68</td>\n",
              "      <td>1.03</td>\n",
              "      <td>3.17</td>\n",
              "      <td>1185.0</td>\n",
              "    </tr>\n",
              "    <tr>\n",
              "      <th>3</th>\n",
              "      <td>14.37</td>\n",
              "      <td>1.95</td>\n",
              "      <td>2.50</td>\n",
              "      <td>16.8</td>\n",
              "      <td>113.0</td>\n",
              "      <td>3.85</td>\n",
              "      <td>3.49</td>\n",
              "      <td>0.24</td>\n",
              "      <td>2.18</td>\n",
              "      <td>7.80</td>\n",
              "      <td>0.86</td>\n",
              "      <td>3.45</td>\n",
              "      <td>1480.0</td>\n",
              "    </tr>\n",
              "    <tr>\n",
              "      <th>4</th>\n",
              "      <td>13.24</td>\n",
              "      <td>2.59</td>\n",
              "      <td>2.87</td>\n",
              "      <td>21.0</td>\n",
              "      <td>118.0</td>\n",
              "      <td>2.80</td>\n",
              "      <td>2.69</td>\n",
              "      <td>0.39</td>\n",
              "      <td>1.82</td>\n",
              "      <td>4.32</td>\n",
              "      <td>1.04</td>\n",
              "      <td>2.93</td>\n",
              "      <td>735.0</td>\n",
              "    </tr>\n",
              "    <tr>\n",
              "      <th>...</th>\n",
              "      <td>...</td>\n",
              "      <td>...</td>\n",
              "      <td>...</td>\n",
              "      <td>...</td>\n",
              "      <td>...</td>\n",
              "      <td>...</td>\n",
              "      <td>...</td>\n",
              "      <td>...</td>\n",
              "      <td>...</td>\n",
              "      <td>...</td>\n",
              "      <td>...</td>\n",
              "      <td>...</td>\n",
              "      <td>...</td>\n",
              "    </tr>\n",
              "    <tr>\n",
              "      <th>168</th>\n",
              "      <td>13.58</td>\n",
              "      <td>2.58</td>\n",
              "      <td>2.69</td>\n",
              "      <td>24.5</td>\n",
              "      <td>105.0</td>\n",
              "      <td>1.55</td>\n",
              "      <td>0.84</td>\n",
              "      <td>0.39</td>\n",
              "      <td>1.54</td>\n",
              "      <td>8.66</td>\n",
              "      <td>0.74</td>\n",
              "      <td>1.80</td>\n",
              "      <td>750.0</td>\n",
              "    </tr>\n",
              "    <tr>\n",
              "      <th>169</th>\n",
              "      <td>13.40</td>\n",
              "      <td>4.60</td>\n",
              "      <td>2.86</td>\n",
              "      <td>25.0</td>\n",
              "      <td>112.0</td>\n",
              "      <td>1.98</td>\n",
              "      <td>0.96</td>\n",
              "      <td>0.27</td>\n",
              "      <td>1.11</td>\n",
              "      <td>8.50</td>\n",
              "      <td>0.67</td>\n",
              "      <td>1.92</td>\n",
              "      <td>630.0</td>\n",
              "    </tr>\n",
              "    <tr>\n",
              "      <th>174</th>\n",
              "      <td>13.40</td>\n",
              "      <td>3.91</td>\n",
              "      <td>2.48</td>\n",
              "      <td>23.0</td>\n",
              "      <td>102.0</td>\n",
              "      <td>1.80</td>\n",
              "      <td>0.75</td>\n",
              "      <td>0.43</td>\n",
              "      <td>1.41</td>\n",
              "      <td>7.30</td>\n",
              "      <td>0.70</td>\n",
              "      <td>1.56</td>\n",
              "      <td>750.0</td>\n",
              "    </tr>\n",
              "    <tr>\n",
              "      <th>175</th>\n",
              "      <td>13.27</td>\n",
              "      <td>4.28</td>\n",
              "      <td>2.26</td>\n",
              "      <td>20.0</td>\n",
              "      <td>120.0</td>\n",
              "      <td>1.59</td>\n",
              "      <td>0.69</td>\n",
              "      <td>0.43</td>\n",
              "      <td>1.35</td>\n",
              "      <td>10.20</td>\n",
              "      <td>0.59</td>\n",
              "      <td>1.56</td>\n",
              "      <td>835.0</td>\n",
              "    </tr>\n",
              "    <tr>\n",
              "      <th>176</th>\n",
              "      <td>13.17</td>\n",
              "      <td>2.59</td>\n",
              "      <td>2.37</td>\n",
              "      <td>20.0</td>\n",
              "      <td>120.0</td>\n",
              "      <td>1.65</td>\n",
              "      <td>0.68</td>\n",
              "      <td>0.53</td>\n",
              "      <td>1.46</td>\n",
              "      <td>9.30</td>\n",
              "      <td>0.60</td>\n",
              "      <td>1.62</td>\n",
              "      <td>840.0</td>\n",
              "    </tr>\n",
              "  </tbody>\n",
              "</table>\n",
              "<p>81 rows × 13 columns</p>\n",
              "</div>"
            ],
            "text/plain": [
              "     alcohol  malic_acid   ash  alcalinity_of_ash  magnesium  total_phenols  \\\n",
              "0      14.23        1.71  2.43               15.6      127.0           2.80   \n",
              "1      13.20        1.78  2.14               11.2      100.0           2.65   \n",
              "2      13.16        2.36  2.67               18.6      101.0           2.80   \n",
              "3      14.37        1.95  2.50               16.8      113.0           3.85   \n",
              "4      13.24        2.59  2.87               21.0      118.0           2.80   \n",
              "..       ...         ...   ...                ...        ...            ...   \n",
              "168    13.58        2.58  2.69               24.5      105.0           1.55   \n",
              "169    13.40        4.60  2.86               25.0      112.0           1.98   \n",
              "174    13.40        3.91  2.48               23.0      102.0           1.80   \n",
              "175    13.27        4.28  2.26               20.0      120.0           1.59   \n",
              "176    13.17        2.59  2.37               20.0      120.0           1.65   \n",
              "\n",
              "     flavanoids  nonflavanoid_phenols  proanthocyanins  color_intensity   hue  \\\n",
              "0          3.06                  0.28             2.29             5.64  1.04   \n",
              "1          2.76                  0.26             1.28             4.38  1.05   \n",
              "2          3.24                  0.30             2.81             5.68  1.03   \n",
              "3          3.49                  0.24             2.18             7.80  0.86   \n",
              "4          2.69                  0.39             1.82             4.32  1.04   \n",
              "..          ...                   ...              ...              ...   ...   \n",
              "168        0.84                  0.39             1.54             8.66  0.74   \n",
              "169        0.96                  0.27             1.11             8.50  0.67   \n",
              "174        0.75                  0.43             1.41             7.30  0.70   \n",
              "175        0.69                  0.43             1.35            10.20  0.59   \n",
              "176        0.68                  0.53             1.46             9.30  0.60   \n",
              "\n",
              "     od280/od315_of_diluted_wines  proline  \n",
              "0                            3.92   1065.0  \n",
              "1                            3.40   1050.0  \n",
              "2                            3.17   1185.0  \n",
              "3                            3.45   1480.0  \n",
              "4                            2.93    735.0  \n",
              "..                            ...      ...  \n",
              "168                          1.80    750.0  \n",
              "169                          1.92    630.0  \n",
              "174                          1.56    750.0  \n",
              "175                          1.56    835.0  \n",
              "176                          1.62    840.0  \n",
              "\n",
              "[81 rows x 13 columns]"
            ]
          },
          "execution_count": 13,
          "metadata": {},
          "output_type": "execute_result"
        }
      ],
      "source": [
        "# ===== 以下に解答のコードを入力して下さい =====\n",
        "wine_df.loc[wine_df[\"magnesium\"] >= 100]"
      ]
    },
    {
      "cell_type": "code",
      "execution_count": 14,
      "id": "aeAeTaLut0uK",
      "metadata": {
        "ExecuteTime": {
          "end_time": "2024-01-30T09:43:30.573023Z",
          "start_time": "2024-01-30T09:43:30.558276Z"
        },
        "colab": {
          "base_uri": "https://localhost:8080/"
        },
        "id": "aeAeTaLut0uK",
        "outputId": "070b2bcf-443c-4e86-d061-3020c7dcd594"
      },
      "outputs": [
        {
          "name": "stdout",
          "output_type": "stream",
          "text": [
            "81\n"
          ]
        }
      ],
      "source": [
        "# ===== 以下に解答のコードを入力して下さい =====\n",
        "print(wine_df.loc[wine_df[\"magnesium\"] >= 100].shape[0])"
      ]
    },
    {
      "cell_type": "markdown",
      "id": "KQ1GUwL1t0uK",
      "metadata": {
        "collapsed": false,
        "id": "KQ1GUwL1t0uK"
      },
      "source": [
        "### 問題2-2\n",
        "\n",
        "`wine_df` から `ash` の値の降順で並べ替え、上から10行を Notebook に表示してみましょう。(※ヒントは[こちら](https://pandas.pydata.org/docs/reference/api/pandas.DataFrame.sort_values.html))"
      ]
    },
    {
      "cell_type": "code",
      "execution_count": 15,
      "id": "52aLvyy8t0uK",
      "metadata": {
        "ExecuteTime": {
          "end_time": "2024-01-30T09:43:30.573093Z",
          "start_time": "2024-01-30T09:43:30.560559Z"
        },
        "colab": {
          "base_uri": "https://localhost:8080/",
          "height": 383
        },
        "id": "52aLvyy8t0uK",
        "outputId": "b0ba9493-24dc-4078-b12c-cd11fef99e96"
      },
      "outputs": [
        {
          "data": {
            "application/vnd.microsoft.datawrangler.viewer.v0+json": {
              "columns": [
                {
                  "name": "index",
                  "rawType": "int64",
                  "type": "integer"
                },
                {
                  "name": "alcohol",
                  "rawType": "float64",
                  "type": "float"
                },
                {
                  "name": "malic_acid",
                  "rawType": "float64",
                  "type": "float"
                },
                {
                  "name": "ash",
                  "rawType": "float64",
                  "type": "float"
                },
                {
                  "name": "alcalinity_of_ash",
                  "rawType": "float64",
                  "type": "float"
                },
                {
                  "name": "magnesium",
                  "rawType": "float64",
                  "type": "float"
                },
                {
                  "name": "total_phenols",
                  "rawType": "float64",
                  "type": "float"
                },
                {
                  "name": "flavanoids",
                  "rawType": "float64",
                  "type": "float"
                },
                {
                  "name": "nonflavanoid_phenols",
                  "rawType": "float64",
                  "type": "float"
                },
                {
                  "name": "proanthocyanins",
                  "rawType": "float64",
                  "type": "float"
                },
                {
                  "name": "color_intensity",
                  "rawType": "float64",
                  "type": "float"
                },
                {
                  "name": "hue",
                  "rawType": "float64",
                  "type": "float"
                },
                {
                  "name": "od280/od315_of_diluted_wines",
                  "rawType": "float64",
                  "type": "float"
                },
                {
                  "name": "proline",
                  "rawType": "float64",
                  "type": "float"
                }
              ],
              "conversionMethod": "pd.DataFrame",
              "ref": "4e009f0b-b6b5-42e2-9469-1baf916d895b",
              "rows": [
                [
                  "121",
                  "11.56",
                  "2.05",
                  "3.23",
                  "28.5",
                  "119.0",
                  "3.18",
                  "5.08",
                  "0.47",
                  "1.87",
                  "6.0",
                  "0.93",
                  "3.69",
                  "465.0"
                ],
                [
                  "25",
                  "13.05",
                  "2.05",
                  "3.22",
                  "25.0",
                  "124.0",
                  "2.63",
                  "2.68",
                  "0.47",
                  "1.92",
                  "3.58",
                  "1.13",
                  "3.2",
                  "830.0"
                ],
                [
                  "112",
                  "11.76",
                  "2.68",
                  "2.92",
                  "20.0",
                  "103.0",
                  "1.75",
                  "2.03",
                  "0.6",
                  "1.05",
                  "3.8",
                  "1.23",
                  "2.5",
                  "607.0"
                ],
                [
                  "4",
                  "13.24",
                  "2.59",
                  "2.87",
                  "21.0",
                  "118.0",
                  "2.8",
                  "2.69",
                  "0.39",
                  "1.82",
                  "4.32",
                  "1.04",
                  "2.93",
                  "735.0"
                ],
                [
                  "169",
                  "13.4",
                  "4.6",
                  "2.86",
                  "25.0",
                  "112.0",
                  "1.98",
                  "0.96",
                  "0.27",
                  "1.11",
                  "8.5",
                  "0.67",
                  "1.92",
                  "630.0"
                ],
                [
                  "36",
                  "13.28",
                  "1.64",
                  "2.84",
                  "15.5",
                  "110.0",
                  "2.6",
                  "2.68",
                  "0.34",
                  "1.36",
                  "4.6",
                  "1.09",
                  "2.78",
                  "880.0"
                ],
                [
                  "28",
                  "13.87",
                  "1.9",
                  "2.8",
                  "19.4",
                  "107.0",
                  "2.95",
                  "2.97",
                  "0.37",
                  "1.76",
                  "4.5",
                  "1.25",
                  "3.4",
                  "915.0"
                ],
                [
                  "127",
                  "11.79",
                  "2.13",
                  "2.78",
                  "28.5",
                  "92.0",
                  "2.13",
                  "2.24",
                  "0.58",
                  "1.76",
                  "3.0",
                  "0.97",
                  "2.44",
                  "466.0"
                ],
                [
                  "152",
                  "13.11",
                  "1.9",
                  "2.75",
                  "25.5",
                  "116.0",
                  "2.2",
                  "1.28",
                  "0.26",
                  "1.56",
                  "7.1",
                  "0.61",
                  "1.33",
                  "425.0"
                ],
                [
                  "177",
                  "14.13",
                  "4.1",
                  "2.74",
                  "24.5",
                  "96.0",
                  "2.05",
                  "0.76",
                  "0.56",
                  "1.35",
                  "9.2",
                  "0.61",
                  "1.6",
                  "560.0"
                ]
              ],
              "shape": {
                "columns": 13,
                "rows": 10
              }
            },
            "text/html": [
              "<div>\n",
              "<style scoped>\n",
              "    .dataframe tbody tr th:only-of-type {\n",
              "        vertical-align: middle;\n",
              "    }\n",
              "\n",
              "    .dataframe tbody tr th {\n",
              "        vertical-align: top;\n",
              "    }\n",
              "\n",
              "    .dataframe thead th {\n",
              "        text-align: right;\n",
              "    }\n",
              "</style>\n",
              "<table border=\"1\" class=\"dataframe\">\n",
              "  <thead>\n",
              "    <tr style=\"text-align: right;\">\n",
              "      <th></th>\n",
              "      <th>alcohol</th>\n",
              "      <th>malic_acid</th>\n",
              "      <th>ash</th>\n",
              "      <th>alcalinity_of_ash</th>\n",
              "      <th>magnesium</th>\n",
              "      <th>total_phenols</th>\n",
              "      <th>flavanoids</th>\n",
              "      <th>nonflavanoid_phenols</th>\n",
              "      <th>proanthocyanins</th>\n",
              "      <th>color_intensity</th>\n",
              "      <th>hue</th>\n",
              "      <th>od280/od315_of_diluted_wines</th>\n",
              "      <th>proline</th>\n",
              "    </tr>\n",
              "  </thead>\n",
              "  <tbody>\n",
              "    <tr>\n",
              "      <th>121</th>\n",
              "      <td>11.56</td>\n",
              "      <td>2.05</td>\n",
              "      <td>3.23</td>\n",
              "      <td>28.5</td>\n",
              "      <td>119.0</td>\n",
              "      <td>3.18</td>\n",
              "      <td>5.08</td>\n",
              "      <td>0.47</td>\n",
              "      <td>1.87</td>\n",
              "      <td>6.00</td>\n",
              "      <td>0.93</td>\n",
              "      <td>3.69</td>\n",
              "      <td>465.0</td>\n",
              "    </tr>\n",
              "    <tr>\n",
              "      <th>25</th>\n",
              "      <td>13.05</td>\n",
              "      <td>2.05</td>\n",
              "      <td>3.22</td>\n",
              "      <td>25.0</td>\n",
              "      <td>124.0</td>\n",
              "      <td>2.63</td>\n",
              "      <td>2.68</td>\n",
              "      <td>0.47</td>\n",
              "      <td>1.92</td>\n",
              "      <td>3.58</td>\n",
              "      <td>1.13</td>\n",
              "      <td>3.20</td>\n",
              "      <td>830.0</td>\n",
              "    </tr>\n",
              "    <tr>\n",
              "      <th>112</th>\n",
              "      <td>11.76</td>\n",
              "      <td>2.68</td>\n",
              "      <td>2.92</td>\n",
              "      <td>20.0</td>\n",
              "      <td>103.0</td>\n",
              "      <td>1.75</td>\n",
              "      <td>2.03</td>\n",
              "      <td>0.60</td>\n",
              "      <td>1.05</td>\n",
              "      <td>3.80</td>\n",
              "      <td>1.23</td>\n",
              "      <td>2.50</td>\n",
              "      <td>607.0</td>\n",
              "    </tr>\n",
              "    <tr>\n",
              "      <th>4</th>\n",
              "      <td>13.24</td>\n",
              "      <td>2.59</td>\n",
              "      <td>2.87</td>\n",
              "      <td>21.0</td>\n",
              "      <td>118.0</td>\n",
              "      <td>2.80</td>\n",
              "      <td>2.69</td>\n",
              "      <td>0.39</td>\n",
              "      <td>1.82</td>\n",
              "      <td>4.32</td>\n",
              "      <td>1.04</td>\n",
              "      <td>2.93</td>\n",
              "      <td>735.0</td>\n",
              "    </tr>\n",
              "    <tr>\n",
              "      <th>169</th>\n",
              "      <td>13.40</td>\n",
              "      <td>4.60</td>\n",
              "      <td>2.86</td>\n",
              "      <td>25.0</td>\n",
              "      <td>112.0</td>\n",
              "      <td>1.98</td>\n",
              "      <td>0.96</td>\n",
              "      <td>0.27</td>\n",
              "      <td>1.11</td>\n",
              "      <td>8.50</td>\n",
              "      <td>0.67</td>\n",
              "      <td>1.92</td>\n",
              "      <td>630.0</td>\n",
              "    </tr>\n",
              "    <tr>\n",
              "      <th>36</th>\n",
              "      <td>13.28</td>\n",
              "      <td>1.64</td>\n",
              "      <td>2.84</td>\n",
              "      <td>15.5</td>\n",
              "      <td>110.0</td>\n",
              "      <td>2.60</td>\n",
              "      <td>2.68</td>\n",
              "      <td>0.34</td>\n",
              "      <td>1.36</td>\n",
              "      <td>4.60</td>\n",
              "      <td>1.09</td>\n",
              "      <td>2.78</td>\n",
              "      <td>880.0</td>\n",
              "    </tr>\n",
              "    <tr>\n",
              "      <th>28</th>\n",
              "      <td>13.87</td>\n",
              "      <td>1.90</td>\n",
              "      <td>2.80</td>\n",
              "      <td>19.4</td>\n",
              "      <td>107.0</td>\n",
              "      <td>2.95</td>\n",
              "      <td>2.97</td>\n",
              "      <td>0.37</td>\n",
              "      <td>1.76</td>\n",
              "      <td>4.50</td>\n",
              "      <td>1.25</td>\n",
              "      <td>3.40</td>\n",
              "      <td>915.0</td>\n",
              "    </tr>\n",
              "    <tr>\n",
              "      <th>127</th>\n",
              "      <td>11.79</td>\n",
              "      <td>2.13</td>\n",
              "      <td>2.78</td>\n",
              "      <td>28.5</td>\n",
              "      <td>92.0</td>\n",
              "      <td>2.13</td>\n",
              "      <td>2.24</td>\n",
              "      <td>0.58</td>\n",
              "      <td>1.76</td>\n",
              "      <td>3.00</td>\n",
              "      <td>0.97</td>\n",
              "      <td>2.44</td>\n",
              "      <td>466.0</td>\n",
              "    </tr>\n",
              "    <tr>\n",
              "      <th>152</th>\n",
              "      <td>13.11</td>\n",
              "      <td>1.90</td>\n",
              "      <td>2.75</td>\n",
              "      <td>25.5</td>\n",
              "      <td>116.0</td>\n",
              "      <td>2.20</td>\n",
              "      <td>1.28</td>\n",
              "      <td>0.26</td>\n",
              "      <td>1.56</td>\n",
              "      <td>7.10</td>\n",
              "      <td>0.61</td>\n",
              "      <td>1.33</td>\n",
              "      <td>425.0</td>\n",
              "    </tr>\n",
              "    <tr>\n",
              "      <th>177</th>\n",
              "      <td>14.13</td>\n",
              "      <td>4.10</td>\n",
              "      <td>2.74</td>\n",
              "      <td>24.5</td>\n",
              "      <td>96.0</td>\n",
              "      <td>2.05</td>\n",
              "      <td>0.76</td>\n",
              "      <td>0.56</td>\n",
              "      <td>1.35</td>\n",
              "      <td>9.20</td>\n",
              "      <td>0.61</td>\n",
              "      <td>1.60</td>\n",
              "      <td>560.0</td>\n",
              "    </tr>\n",
              "  </tbody>\n",
              "</table>\n",
              "</div>"
            ],
            "text/plain": [
              "     alcohol  malic_acid   ash  alcalinity_of_ash  magnesium  total_phenols  \\\n",
              "121    11.56        2.05  3.23               28.5      119.0           3.18   \n",
              "25     13.05        2.05  3.22               25.0      124.0           2.63   \n",
              "112    11.76        2.68  2.92               20.0      103.0           1.75   \n",
              "4      13.24        2.59  2.87               21.0      118.0           2.80   \n",
              "169    13.40        4.60  2.86               25.0      112.0           1.98   \n",
              "36     13.28        1.64  2.84               15.5      110.0           2.60   \n",
              "28     13.87        1.90  2.80               19.4      107.0           2.95   \n",
              "127    11.79        2.13  2.78               28.5       92.0           2.13   \n",
              "152    13.11        1.90  2.75               25.5      116.0           2.20   \n",
              "177    14.13        4.10  2.74               24.5       96.0           2.05   \n",
              "\n",
              "     flavanoids  nonflavanoid_phenols  proanthocyanins  color_intensity   hue  \\\n",
              "121        5.08                  0.47             1.87             6.00  0.93   \n",
              "25         2.68                  0.47             1.92             3.58  1.13   \n",
              "112        2.03                  0.60             1.05             3.80  1.23   \n",
              "4          2.69                  0.39             1.82             4.32  1.04   \n",
              "169        0.96                  0.27             1.11             8.50  0.67   \n",
              "36         2.68                  0.34             1.36             4.60  1.09   \n",
              "28         2.97                  0.37             1.76             4.50  1.25   \n",
              "127        2.24                  0.58             1.76             3.00  0.97   \n",
              "152        1.28                  0.26             1.56             7.10  0.61   \n",
              "177        0.76                  0.56             1.35             9.20  0.61   \n",
              "\n",
              "     od280/od315_of_diluted_wines  proline  \n",
              "121                          3.69    465.0  \n",
              "25                           3.20    830.0  \n",
              "112                          2.50    607.0  \n",
              "4                            2.93    735.0  \n",
              "169                          1.92    630.0  \n",
              "36                           2.78    880.0  \n",
              "28                           3.40    915.0  \n",
              "127                          2.44    466.0  \n",
              "152                          1.33    425.0  \n",
              "177                          1.60    560.0  "
            ]
          },
          "execution_count": 15,
          "metadata": {},
          "output_type": "execute_result"
        }
      ],
      "source": [
        "# ===== 以下に解答のコードを入力して下さい =====\n",
        "wine_df.sort_values(\"ash\", ascending=False).head(10)"
      ]
    },
    {
      "cell_type": "markdown",
      "id": "BaotOx9ct0uK",
      "metadata": {
        "collapsed": false,
        "id": "BaotOx9ct0uK"
      },
      "source": [
        "### 問題2-3\n",
        "\n",
        "`wine_df` を `target` すなわちワインの種類によってグループに分け、`flavanoids` の平均値を計算しましょう。(※ヒントは[こちら](https://pandas.pydata.org/docs/reference/api/pandas.DataFrame.groupby.html))\n",
        "\n",
        "またその結果、平均値が一番小さい `target` はどれですか？"
      ]
    },
    {
      "cell_type": "code",
      "execution_count": 16,
      "id": "H_9mG4Vit0uK",
      "metadata": {
        "ExecuteTime": {
          "end_time": "2024-01-30T09:43:30.575884Z",
          "start_time": "2024-01-30T09:43:30.571334Z"
        },
        "colab": {
          "base_uri": "https://localhost:8080/",
          "height": 175
        },
        "id": "H_9mG4Vit0uK",
        "outputId": "fb04d4aa-978a-4d95-bef8-349c99f483b0"
      },
      "outputs": [
        {
          "data": {
            "application/vnd.microsoft.datawrangler.viewer.v0+json": {
              "columns": [
                {
                  "name": "target",
                  "rawType": "int64",
                  "type": "integer"
                },
                {
                  "name": "flavanoids",
                  "rawType": "float64",
                  "type": "float"
                }
              ],
              "conversionMethod": "pd.DataFrame",
              "ref": "e46bb8a4-48be-4504-8cd3-fd842e78f366",
              "rows": [
                [
                  "0",
                  "2.9823728813559325"
                ],
                [
                  "1",
                  "2.0808450704225354"
                ],
                [
                  "2",
                  "0.7814583333333333"
                ]
              ],
              "shape": {
                "columns": 1,
                "rows": 3
              }
            },
            "text/html": [
              "<div>\n",
              "<style scoped>\n",
              "    .dataframe tbody tr th:only-of-type {\n",
              "        vertical-align: middle;\n",
              "    }\n",
              "\n",
              "    .dataframe tbody tr th {\n",
              "        vertical-align: top;\n",
              "    }\n",
              "\n",
              "    .dataframe thead th {\n",
              "        text-align: right;\n",
              "    }\n",
              "</style>\n",
              "<table border=\"1\" class=\"dataframe\">\n",
              "  <thead>\n",
              "    <tr style=\"text-align: right;\">\n",
              "      <th></th>\n",
              "      <th>flavanoids</th>\n",
              "    </tr>\n",
              "    <tr>\n",
              "      <th>target</th>\n",
              "      <th></th>\n",
              "    </tr>\n",
              "  </thead>\n",
              "  <tbody>\n",
              "    <tr>\n",
              "      <th>0</th>\n",
              "      <td>2.982373</td>\n",
              "    </tr>\n",
              "    <tr>\n",
              "      <th>1</th>\n",
              "      <td>2.080845</td>\n",
              "    </tr>\n",
              "    <tr>\n",
              "      <th>2</th>\n",
              "      <td>0.781458</td>\n",
              "    </tr>\n",
              "  </tbody>\n",
              "</table>\n",
              "</div>"
            ],
            "text/plain": [
              "        flavanoids\n",
              "target            \n",
              "0         2.982373\n",
              "1         2.080845\n",
              "2         0.781458"
            ]
          },
          "execution_count": 16,
          "metadata": {},
          "output_type": "execute_result"
        }
      ],
      "source": [
        "# wine_df に 新しい列 target を追加する\n",
        "wine_df['target'] = pd.DataFrame(wine_data.target)\n",
        "\n",
        "# ===== 以下に解答のコードを入力して下さい =====\n",
        "wine_df.groupby(\"target\")[[\"flavanoids\"]].mean()"
      ]
    },
    {
      "cell_type": "code",
      "execution_count": 17,
      "id": "Kjhf8e-Kt0uK",
      "metadata": {
        "ExecuteTime": {
          "end_time": "2024-01-30T09:43:30.577368Z",
          "start_time": "2024-01-30T09:43:30.574242Z"
        },
        "colab": {
          "base_uri": "https://localhost:8080/"
        },
        "id": "Kjhf8e-Kt0uK",
        "outputId": "db4c2f54-736d-416a-caad-729fd7835809"
      },
      "outputs": [
        {
          "name": "stdout",
          "output_type": "stream",
          "text": [
            "flavanoids    2\n",
            "dtype: int64\n"
          ]
        }
      ],
      "source": [
        "# ===== 以下に解答のコードを入力して下さい =====\n",
        "print(wine_df.groupby(\"target\")[[\"flavanoids\"]].mean().idxmin())"
      ]
    },
    {
      "cell_type": "markdown",
      "id": "FfQd1PMzt0uK",
      "metadata": {
        "collapsed": false,
        "id": "FfQd1PMzt0uK"
      },
      "source": [
        "### 問題2-4\n",
        "\n",
        "`wine_df` の列 `alcohol` に対して、\n",
        "\n",
        "13%以上は `1`\n",
        "13%未満は `0`\n",
        "\n",
        "と出力する関数 `is_alcohol_high` を適用し、新しく `alcohol_high` という変数を作成してみましょう。(※ヒントは[こちら](https://pandas.pydata.org/docs/reference/api/pandas.DataFrame.apply.html))\n",
        "\n",
        "作成したら、結果を下から10行出力して確認してみましょう。"
      ]
    },
    {
      "cell_type": "code",
      "execution_count": 18,
      "id": "DJlBW-6zt0uK",
      "metadata": {
        "ExecuteTime": {
          "end_time": "2024-01-30T09:43:30.585788Z",
          "start_time": "2024-01-30T09:43:30.583478Z"
        },
        "id": "DJlBW-6zt0uK"
      },
      "outputs": [],
      "source": [
        "# ===== 以下に解答のコードを入力して下さい =====\n",
        "def is_alcohol_high(alcohol):\n",
        "    if alcohol >= 13:\n",
        "        return 1\n",
        "    else:\n",
        "        return 0\n",
        "\n",
        "wine_df[\"alcohol_high\"] = wine_df[\"alcohol\"].apply(is_alcohol_high)"
      ]
    },
    {
      "cell_type": "code",
      "execution_count": 19,
      "id": "6q7jWmuEt0uK",
      "metadata": {
        "colab": {
          "base_uri": "https://localhost:8080/",
          "height": 383
        },
        "id": "6q7jWmuEt0uK",
        "outputId": "012d3d5a-2869-4c3c-dd47-cede992dbd12"
      },
      "outputs": [
        {
          "data": {
            "application/vnd.microsoft.datawrangler.viewer.v0+json": {
              "columns": [
                {
                  "name": "index",
                  "rawType": "int64",
                  "type": "integer"
                },
                {
                  "name": "alcohol",
                  "rawType": "float64",
                  "type": "float"
                },
                {
                  "name": "malic_acid",
                  "rawType": "float64",
                  "type": "float"
                },
                {
                  "name": "ash",
                  "rawType": "float64",
                  "type": "float"
                },
                {
                  "name": "alcalinity_of_ash",
                  "rawType": "float64",
                  "type": "float"
                },
                {
                  "name": "magnesium",
                  "rawType": "float64",
                  "type": "float"
                },
                {
                  "name": "total_phenols",
                  "rawType": "float64",
                  "type": "float"
                },
                {
                  "name": "flavanoids",
                  "rawType": "float64",
                  "type": "float"
                },
                {
                  "name": "nonflavanoid_phenols",
                  "rawType": "float64",
                  "type": "float"
                },
                {
                  "name": "proanthocyanins",
                  "rawType": "float64",
                  "type": "float"
                },
                {
                  "name": "color_intensity",
                  "rawType": "float64",
                  "type": "float"
                },
                {
                  "name": "hue",
                  "rawType": "float64",
                  "type": "float"
                },
                {
                  "name": "od280/od315_of_diluted_wines",
                  "rawType": "float64",
                  "type": "float"
                },
                {
                  "name": "proline",
                  "rawType": "float64",
                  "type": "float"
                },
                {
                  "name": "target",
                  "rawType": "int64",
                  "type": "integer"
                },
                {
                  "name": "alcohol_high",
                  "rawType": "int64",
                  "type": "integer"
                }
              ],
              "conversionMethod": "pd.DataFrame",
              "ref": "6faa703a-49fa-4989-8bf9-3f193affc5f7",
              "rows": [
                [
                  "168",
                  "13.58",
                  "2.58",
                  "2.69",
                  "24.5",
                  "105.0",
                  "1.55",
                  "0.84",
                  "0.39",
                  "1.54",
                  "8.66",
                  "0.74",
                  "1.8",
                  "750.0",
                  "2",
                  "1"
                ],
                [
                  "169",
                  "13.4",
                  "4.6",
                  "2.86",
                  "25.0",
                  "112.0",
                  "1.98",
                  "0.96",
                  "0.27",
                  "1.11",
                  "8.5",
                  "0.67",
                  "1.92",
                  "630.0",
                  "2",
                  "1"
                ],
                [
                  "170",
                  "12.2",
                  "3.03",
                  "2.32",
                  "19.0",
                  "96.0",
                  "1.25",
                  "0.49",
                  "0.4",
                  "0.73",
                  "5.5",
                  "0.66",
                  "1.83",
                  "510.0",
                  "2",
                  "0"
                ],
                [
                  "171",
                  "12.77",
                  "2.39",
                  "2.28",
                  "19.5",
                  "86.0",
                  "1.39",
                  "0.51",
                  "0.48",
                  "0.64",
                  "9.899999",
                  "0.57",
                  "1.63",
                  "470.0",
                  "2",
                  "0"
                ],
                [
                  "172",
                  "14.16",
                  "2.51",
                  "2.48",
                  "20.0",
                  "91.0",
                  "1.68",
                  "0.7",
                  "0.44",
                  "1.24",
                  "9.7",
                  "0.62",
                  "1.71",
                  "660.0",
                  "2",
                  "1"
                ],
                [
                  "173",
                  "13.71",
                  "5.65",
                  "2.45",
                  "20.5",
                  "95.0",
                  "1.68",
                  "0.61",
                  "0.52",
                  "1.06",
                  "7.7",
                  "0.64",
                  "1.74",
                  "740.0",
                  "2",
                  "1"
                ],
                [
                  "174",
                  "13.4",
                  "3.91",
                  "2.48",
                  "23.0",
                  "102.0",
                  "1.8",
                  "0.75",
                  "0.43",
                  "1.41",
                  "7.3",
                  "0.7",
                  "1.56",
                  "750.0",
                  "2",
                  "1"
                ],
                [
                  "175",
                  "13.27",
                  "4.28",
                  "2.26",
                  "20.0",
                  "120.0",
                  "1.59",
                  "0.69",
                  "0.43",
                  "1.35",
                  "10.2",
                  "0.59",
                  "1.56",
                  "835.0",
                  "2",
                  "1"
                ],
                [
                  "176",
                  "13.17",
                  "2.59",
                  "2.37",
                  "20.0",
                  "120.0",
                  "1.65",
                  "0.68",
                  "0.53",
                  "1.46",
                  "9.3",
                  "0.6",
                  "1.62",
                  "840.0",
                  "2",
                  "1"
                ],
                [
                  "177",
                  "14.13",
                  "4.1",
                  "2.74",
                  "24.5",
                  "96.0",
                  "2.05",
                  "0.76",
                  "0.56",
                  "1.35",
                  "9.2",
                  "0.61",
                  "1.6",
                  "560.0",
                  "2",
                  "1"
                ]
              ],
              "shape": {
                "columns": 15,
                "rows": 10
              }
            },
            "text/html": [
              "<div>\n",
              "<style scoped>\n",
              "    .dataframe tbody tr th:only-of-type {\n",
              "        vertical-align: middle;\n",
              "    }\n",
              "\n",
              "    .dataframe tbody tr th {\n",
              "        vertical-align: top;\n",
              "    }\n",
              "\n",
              "    .dataframe thead th {\n",
              "        text-align: right;\n",
              "    }\n",
              "</style>\n",
              "<table border=\"1\" class=\"dataframe\">\n",
              "  <thead>\n",
              "    <tr style=\"text-align: right;\">\n",
              "      <th></th>\n",
              "      <th>alcohol</th>\n",
              "      <th>malic_acid</th>\n",
              "      <th>ash</th>\n",
              "      <th>alcalinity_of_ash</th>\n",
              "      <th>magnesium</th>\n",
              "      <th>total_phenols</th>\n",
              "      <th>flavanoids</th>\n",
              "      <th>nonflavanoid_phenols</th>\n",
              "      <th>proanthocyanins</th>\n",
              "      <th>color_intensity</th>\n",
              "      <th>hue</th>\n",
              "      <th>od280/od315_of_diluted_wines</th>\n",
              "      <th>proline</th>\n",
              "      <th>target</th>\n",
              "      <th>alcohol_high</th>\n",
              "    </tr>\n",
              "  </thead>\n",
              "  <tbody>\n",
              "    <tr>\n",
              "      <th>168</th>\n",
              "      <td>13.58</td>\n",
              "      <td>2.58</td>\n",
              "      <td>2.69</td>\n",
              "      <td>24.5</td>\n",
              "      <td>105.0</td>\n",
              "      <td>1.55</td>\n",
              "      <td>0.84</td>\n",
              "      <td>0.39</td>\n",
              "      <td>1.54</td>\n",
              "      <td>8.660000</td>\n",
              "      <td>0.74</td>\n",
              "      <td>1.80</td>\n",
              "      <td>750.0</td>\n",
              "      <td>2</td>\n",
              "      <td>1</td>\n",
              "    </tr>\n",
              "    <tr>\n",
              "      <th>169</th>\n",
              "      <td>13.40</td>\n",
              "      <td>4.60</td>\n",
              "      <td>2.86</td>\n",
              "      <td>25.0</td>\n",
              "      <td>112.0</td>\n",
              "      <td>1.98</td>\n",
              "      <td>0.96</td>\n",
              "      <td>0.27</td>\n",
              "      <td>1.11</td>\n",
              "      <td>8.500000</td>\n",
              "      <td>0.67</td>\n",
              "      <td>1.92</td>\n",
              "      <td>630.0</td>\n",
              "      <td>2</td>\n",
              "      <td>1</td>\n",
              "    </tr>\n",
              "    <tr>\n",
              "      <th>170</th>\n",
              "      <td>12.20</td>\n",
              "      <td>3.03</td>\n",
              "      <td>2.32</td>\n",
              "      <td>19.0</td>\n",
              "      <td>96.0</td>\n",
              "      <td>1.25</td>\n",
              "      <td>0.49</td>\n",
              "      <td>0.40</td>\n",
              "      <td>0.73</td>\n",
              "      <td>5.500000</td>\n",
              "      <td>0.66</td>\n",
              "      <td>1.83</td>\n",
              "      <td>510.0</td>\n",
              "      <td>2</td>\n",
              "      <td>0</td>\n",
              "    </tr>\n",
              "    <tr>\n",
              "      <th>171</th>\n",
              "      <td>12.77</td>\n",
              "      <td>2.39</td>\n",
              "      <td>2.28</td>\n",
              "      <td>19.5</td>\n",
              "      <td>86.0</td>\n",
              "      <td>1.39</td>\n",
              "      <td>0.51</td>\n",
              "      <td>0.48</td>\n",
              "      <td>0.64</td>\n",
              "      <td>9.899999</td>\n",
              "      <td>0.57</td>\n",
              "      <td>1.63</td>\n",
              "      <td>470.0</td>\n",
              "      <td>2</td>\n",
              "      <td>0</td>\n",
              "    </tr>\n",
              "    <tr>\n",
              "      <th>172</th>\n",
              "      <td>14.16</td>\n",
              "      <td>2.51</td>\n",
              "      <td>2.48</td>\n",
              "      <td>20.0</td>\n",
              "      <td>91.0</td>\n",
              "      <td>1.68</td>\n",
              "      <td>0.70</td>\n",
              "      <td>0.44</td>\n",
              "      <td>1.24</td>\n",
              "      <td>9.700000</td>\n",
              "      <td>0.62</td>\n",
              "      <td>1.71</td>\n",
              "      <td>660.0</td>\n",
              "      <td>2</td>\n",
              "      <td>1</td>\n",
              "    </tr>\n",
              "    <tr>\n",
              "      <th>173</th>\n",
              "      <td>13.71</td>\n",
              "      <td>5.65</td>\n",
              "      <td>2.45</td>\n",
              "      <td>20.5</td>\n",
              "      <td>95.0</td>\n",
              "      <td>1.68</td>\n",
              "      <td>0.61</td>\n",
              "      <td>0.52</td>\n",
              "      <td>1.06</td>\n",
              "      <td>7.700000</td>\n",
              "      <td>0.64</td>\n",
              "      <td>1.74</td>\n",
              "      <td>740.0</td>\n",
              "      <td>2</td>\n",
              "      <td>1</td>\n",
              "    </tr>\n",
              "    <tr>\n",
              "      <th>174</th>\n",
              "      <td>13.40</td>\n",
              "      <td>3.91</td>\n",
              "      <td>2.48</td>\n",
              "      <td>23.0</td>\n",
              "      <td>102.0</td>\n",
              "      <td>1.80</td>\n",
              "      <td>0.75</td>\n",
              "      <td>0.43</td>\n",
              "      <td>1.41</td>\n",
              "      <td>7.300000</td>\n",
              "      <td>0.70</td>\n",
              "      <td>1.56</td>\n",
              "      <td>750.0</td>\n",
              "      <td>2</td>\n",
              "      <td>1</td>\n",
              "    </tr>\n",
              "    <tr>\n",
              "      <th>175</th>\n",
              "      <td>13.27</td>\n",
              "      <td>4.28</td>\n",
              "      <td>2.26</td>\n",
              "      <td>20.0</td>\n",
              "      <td>120.0</td>\n",
              "      <td>1.59</td>\n",
              "      <td>0.69</td>\n",
              "      <td>0.43</td>\n",
              "      <td>1.35</td>\n",
              "      <td>10.200000</td>\n",
              "      <td>0.59</td>\n",
              "      <td>1.56</td>\n",
              "      <td>835.0</td>\n",
              "      <td>2</td>\n",
              "      <td>1</td>\n",
              "    </tr>\n",
              "    <tr>\n",
              "      <th>176</th>\n",
              "      <td>13.17</td>\n",
              "      <td>2.59</td>\n",
              "      <td>2.37</td>\n",
              "      <td>20.0</td>\n",
              "      <td>120.0</td>\n",
              "      <td>1.65</td>\n",
              "      <td>0.68</td>\n",
              "      <td>0.53</td>\n",
              "      <td>1.46</td>\n",
              "      <td>9.300000</td>\n",
              "      <td>0.60</td>\n",
              "      <td>1.62</td>\n",
              "      <td>840.0</td>\n",
              "      <td>2</td>\n",
              "      <td>1</td>\n",
              "    </tr>\n",
              "    <tr>\n",
              "      <th>177</th>\n",
              "      <td>14.13</td>\n",
              "      <td>4.10</td>\n",
              "      <td>2.74</td>\n",
              "      <td>24.5</td>\n",
              "      <td>96.0</td>\n",
              "      <td>2.05</td>\n",
              "      <td>0.76</td>\n",
              "      <td>0.56</td>\n",
              "      <td>1.35</td>\n",
              "      <td>9.200000</td>\n",
              "      <td>0.61</td>\n",
              "      <td>1.60</td>\n",
              "      <td>560.0</td>\n",
              "      <td>2</td>\n",
              "      <td>1</td>\n",
              "    </tr>\n",
              "  </tbody>\n",
              "</table>\n",
              "</div>"
            ],
            "text/plain": [
              "     alcohol  malic_acid   ash  alcalinity_of_ash  magnesium  total_phenols  \\\n",
              "168    13.58        2.58  2.69               24.5      105.0           1.55   \n",
              "169    13.40        4.60  2.86               25.0      112.0           1.98   \n",
              "170    12.20        3.03  2.32               19.0       96.0           1.25   \n",
              "171    12.77        2.39  2.28               19.5       86.0           1.39   \n",
              "172    14.16        2.51  2.48               20.0       91.0           1.68   \n",
              "173    13.71        5.65  2.45               20.5       95.0           1.68   \n",
              "174    13.40        3.91  2.48               23.0      102.0           1.80   \n",
              "175    13.27        4.28  2.26               20.0      120.0           1.59   \n",
              "176    13.17        2.59  2.37               20.0      120.0           1.65   \n",
              "177    14.13        4.10  2.74               24.5       96.0           2.05   \n",
              "\n",
              "     flavanoids  nonflavanoid_phenols  proanthocyanins  color_intensity   hue  \\\n",
              "168        0.84                  0.39             1.54         8.660000  0.74   \n",
              "169        0.96                  0.27             1.11         8.500000  0.67   \n",
              "170        0.49                  0.40             0.73         5.500000  0.66   \n",
              "171        0.51                  0.48             0.64         9.899999  0.57   \n",
              "172        0.70                  0.44             1.24         9.700000  0.62   \n",
              "173        0.61                  0.52             1.06         7.700000  0.64   \n",
              "174        0.75                  0.43             1.41         7.300000  0.70   \n",
              "175        0.69                  0.43             1.35        10.200000  0.59   \n",
              "176        0.68                  0.53             1.46         9.300000  0.60   \n",
              "177        0.76                  0.56             1.35         9.200000  0.61   \n",
              "\n",
              "     od280/od315_of_diluted_wines  proline  target  alcohol_high  \n",
              "168                          1.80    750.0       2             1  \n",
              "169                          1.92    630.0       2             1  \n",
              "170                          1.83    510.0       2             0  \n",
              "171                          1.63    470.0       2             0  \n",
              "172                          1.71    660.0       2             1  \n",
              "173                          1.74    740.0       2             1  \n",
              "174                          1.56    750.0       2             1  \n",
              "175                          1.56    835.0       2             1  \n",
              "176                          1.62    840.0       2             1  \n",
              "177                          1.60    560.0       2             1  "
            ]
          },
          "execution_count": 19,
          "metadata": {},
          "output_type": "execute_result"
        }
      ],
      "source": [
        "# ===== 以下に解答のコードを入力して下さい =====\n",
        "wine_df.tail(10)"
      ]
    },
    {
      "cell_type": "markdown",
      "id": "zN0iDcqYt0uK",
      "metadata": {
        "collapsed": false,
        "id": "zN0iDcqYt0uK"
      },
      "source": [
        "## 問題3 統計分析\n",
        "\n",
        "作成したデータに対して統計分析をしてみましょう。"
      ]
    },
    {
      "cell_type": "markdown",
      "id": "iWIkij28t0uK",
      "metadata": {
        "collapsed": false,
        "id": "iWIkij28t0uK"
      },
      "source": [
        "### 問題3-1\n",
        "\n",
        "dataframe の `describe` メソッドを使用し、数値データの各種統計量を確認してみましょう。(※ヒントは[こちら](https://pandas.pydata.org/docs/reference/api/pandas.DataFrame.describe.html))\n",
        "\n",
        "特徴量の中で一番標準偏差が大きいものはどれですか？"
      ]
    },
    {
      "cell_type": "code",
      "execution_count": 20,
      "id": "TeX2BjvDt0uK",
      "metadata": {
        "ExecuteTime": {
          "end_time": "2024-01-30T09:43:30.726339Z",
          "start_time": "2024-01-30T09:43:30.587748Z"
        },
        "colab": {
          "base_uri": "https://localhost:8080/",
          "height": 320
        },
        "id": "TeX2BjvDt0uK",
        "outputId": "bf919f33-397e-4c0c-b7dc-8dbbea341b25"
      },
      "outputs": [
        {
          "data": {
            "application/vnd.microsoft.datawrangler.viewer.v0+json": {
              "columns": [
                {
                  "name": "index",
                  "rawType": "object",
                  "type": "string"
                },
                {
                  "name": "alcohol",
                  "rawType": "float64",
                  "type": "float"
                },
                {
                  "name": "malic_acid",
                  "rawType": "float64",
                  "type": "float"
                },
                {
                  "name": "ash",
                  "rawType": "float64",
                  "type": "float"
                },
                {
                  "name": "alcalinity_of_ash",
                  "rawType": "float64",
                  "type": "float"
                },
                {
                  "name": "magnesium",
                  "rawType": "float64",
                  "type": "float"
                },
                {
                  "name": "total_phenols",
                  "rawType": "float64",
                  "type": "float"
                },
                {
                  "name": "flavanoids",
                  "rawType": "float64",
                  "type": "float"
                },
                {
                  "name": "nonflavanoid_phenols",
                  "rawType": "float64",
                  "type": "float"
                },
                {
                  "name": "proanthocyanins",
                  "rawType": "float64",
                  "type": "float"
                },
                {
                  "name": "color_intensity",
                  "rawType": "float64",
                  "type": "float"
                },
                {
                  "name": "hue",
                  "rawType": "float64",
                  "type": "float"
                },
                {
                  "name": "od280/od315_of_diluted_wines",
                  "rawType": "float64",
                  "type": "float"
                },
                {
                  "name": "proline",
                  "rawType": "float64",
                  "type": "float"
                },
                {
                  "name": "target",
                  "rawType": "float64",
                  "type": "float"
                },
                {
                  "name": "alcohol_high",
                  "rawType": "float64",
                  "type": "float"
                }
              ],
              "conversionMethod": "pd.DataFrame",
              "ref": "2fe77453-2ea8-4d40-958a-97cd1a974339",
              "rows": [
                [
                  "count",
                  "178.0",
                  "178.0",
                  "178.0",
                  "178.0",
                  "178.0",
                  "178.0",
                  "178.0",
                  "178.0",
                  "178.0",
                  "178.0",
                  "178.0",
                  "178.0",
                  "178.0",
                  "178.0",
                  "178.0"
                ],
                [
                  "mean",
                  "13.00061797752809",
                  "2.3363483146067416",
                  "2.3665168539325845",
                  "19.49494382022472",
                  "99.74157303370787",
                  "2.295112359550562",
                  "2.0292696629213487",
                  "0.3618539325842696",
                  "1.5908988764044945",
                  "5.058089882022472",
                  "0.9574494382022471",
                  "2.6116853932584267",
                  "746.8932584269663",
                  "0.9382022471910112",
                  "0.5168539325842697"
                ],
                [
                  "std",
                  "0.8118265380058575",
                  "1.1171460976144627",
                  "0.27434400906081485",
                  "3.339563767173505",
                  "14.282483515295665",
                  "0.6258510488339893",
                  "0.9988586850169467",
                  "0.12445334029667937",
                  "0.5723588626747613",
                  "2.318285871822413",
                  "0.22857156582982338",
                  "0.7099904287650504",
                  "314.9074742768491",
                  "0.7750349899850564",
                  "0.5011255027477861"
                ],
                [
                  "min",
                  "11.03",
                  "0.74",
                  "1.36",
                  "10.6",
                  "70.0",
                  "0.98",
                  "0.34",
                  "0.13",
                  "0.41",
                  "1.28",
                  "0.48",
                  "1.27",
                  "278.0",
                  "0.0",
                  "0.0"
                ],
                [
                  "25%",
                  "12.362499999999999",
                  "1.6025",
                  "2.21",
                  "17.2",
                  "88.0",
                  "1.7425",
                  "1.205",
                  "0.27",
                  "1.25",
                  "3.2199999999999998",
                  "0.7825",
                  "1.9375",
                  "500.5",
                  "0.0",
                  "0.0"
                ],
                [
                  "50%",
                  "13.05",
                  "1.8650000000000002",
                  "2.36",
                  "19.5",
                  "98.0",
                  "2.355",
                  "2.135",
                  "0.34",
                  "1.5550000000000002",
                  "4.6899999999999995",
                  "0.965",
                  "2.78",
                  "673.5",
                  "1.0",
                  "1.0"
                ],
                [
                  "75%",
                  "13.6775",
                  "3.0825",
                  "2.5575",
                  "21.5",
                  "107.0",
                  "2.8",
                  "2.875",
                  "0.4375",
                  "1.95",
                  "6.2",
                  "1.12",
                  "3.17",
                  "985.0",
                  "2.0",
                  "1.0"
                ],
                [
                  "max",
                  "14.83",
                  "5.8",
                  "3.23",
                  "30.0",
                  "162.0",
                  "3.88",
                  "5.08",
                  "0.66",
                  "3.58",
                  "13.0",
                  "1.71",
                  "4.0",
                  "1680.0",
                  "2.0",
                  "1.0"
                ]
              ],
              "shape": {
                "columns": 15,
                "rows": 8
              }
            },
            "text/html": [
              "<div>\n",
              "<style scoped>\n",
              "    .dataframe tbody tr th:only-of-type {\n",
              "        vertical-align: middle;\n",
              "    }\n",
              "\n",
              "    .dataframe tbody tr th {\n",
              "        vertical-align: top;\n",
              "    }\n",
              "\n",
              "    .dataframe thead th {\n",
              "        text-align: right;\n",
              "    }\n",
              "</style>\n",
              "<table border=\"1\" class=\"dataframe\">\n",
              "  <thead>\n",
              "    <tr style=\"text-align: right;\">\n",
              "      <th></th>\n",
              "      <th>alcohol</th>\n",
              "      <th>malic_acid</th>\n",
              "      <th>ash</th>\n",
              "      <th>alcalinity_of_ash</th>\n",
              "      <th>magnesium</th>\n",
              "      <th>total_phenols</th>\n",
              "      <th>flavanoids</th>\n",
              "      <th>nonflavanoid_phenols</th>\n",
              "      <th>proanthocyanins</th>\n",
              "      <th>color_intensity</th>\n",
              "      <th>hue</th>\n",
              "      <th>od280/od315_of_diluted_wines</th>\n",
              "      <th>proline</th>\n",
              "      <th>target</th>\n",
              "      <th>alcohol_high</th>\n",
              "    </tr>\n",
              "  </thead>\n",
              "  <tbody>\n",
              "    <tr>\n",
              "      <th>count</th>\n",
              "      <td>178.000000</td>\n",
              "      <td>178.000000</td>\n",
              "      <td>178.000000</td>\n",
              "      <td>178.000000</td>\n",
              "      <td>178.000000</td>\n",
              "      <td>178.000000</td>\n",
              "      <td>178.000000</td>\n",
              "      <td>178.000000</td>\n",
              "      <td>178.000000</td>\n",
              "      <td>178.000000</td>\n",
              "      <td>178.000000</td>\n",
              "      <td>178.000000</td>\n",
              "      <td>178.000000</td>\n",
              "      <td>178.000000</td>\n",
              "      <td>178.000000</td>\n",
              "    </tr>\n",
              "    <tr>\n",
              "      <th>mean</th>\n",
              "      <td>13.000618</td>\n",
              "      <td>2.336348</td>\n",
              "      <td>2.366517</td>\n",
              "      <td>19.494944</td>\n",
              "      <td>99.741573</td>\n",
              "      <td>2.295112</td>\n",
              "      <td>2.029270</td>\n",
              "      <td>0.361854</td>\n",
              "      <td>1.590899</td>\n",
              "      <td>5.058090</td>\n",
              "      <td>0.957449</td>\n",
              "      <td>2.611685</td>\n",
              "      <td>746.893258</td>\n",
              "      <td>0.938202</td>\n",
              "      <td>0.516854</td>\n",
              "    </tr>\n",
              "    <tr>\n",
              "      <th>std</th>\n",
              "      <td>0.811827</td>\n",
              "      <td>1.117146</td>\n",
              "      <td>0.274344</td>\n",
              "      <td>3.339564</td>\n",
              "      <td>14.282484</td>\n",
              "      <td>0.625851</td>\n",
              "      <td>0.998859</td>\n",
              "      <td>0.124453</td>\n",
              "      <td>0.572359</td>\n",
              "      <td>2.318286</td>\n",
              "      <td>0.228572</td>\n",
              "      <td>0.709990</td>\n",
              "      <td>314.907474</td>\n",
              "      <td>0.775035</td>\n",
              "      <td>0.501126</td>\n",
              "    </tr>\n",
              "    <tr>\n",
              "      <th>min</th>\n",
              "      <td>11.030000</td>\n",
              "      <td>0.740000</td>\n",
              "      <td>1.360000</td>\n",
              "      <td>10.600000</td>\n",
              "      <td>70.000000</td>\n",
              "      <td>0.980000</td>\n",
              "      <td>0.340000</td>\n",
              "      <td>0.130000</td>\n",
              "      <td>0.410000</td>\n",
              "      <td>1.280000</td>\n",
              "      <td>0.480000</td>\n",
              "      <td>1.270000</td>\n",
              "      <td>278.000000</td>\n",
              "      <td>0.000000</td>\n",
              "      <td>0.000000</td>\n",
              "    </tr>\n",
              "    <tr>\n",
              "      <th>25%</th>\n",
              "      <td>12.362500</td>\n",
              "      <td>1.602500</td>\n",
              "      <td>2.210000</td>\n",
              "      <td>17.200000</td>\n",
              "      <td>88.000000</td>\n",
              "      <td>1.742500</td>\n",
              "      <td>1.205000</td>\n",
              "      <td>0.270000</td>\n",
              "      <td>1.250000</td>\n",
              "      <td>3.220000</td>\n",
              "      <td>0.782500</td>\n",
              "      <td>1.937500</td>\n",
              "      <td>500.500000</td>\n",
              "      <td>0.000000</td>\n",
              "      <td>0.000000</td>\n",
              "    </tr>\n",
              "    <tr>\n",
              "      <th>50%</th>\n",
              "      <td>13.050000</td>\n",
              "      <td>1.865000</td>\n",
              "      <td>2.360000</td>\n",
              "      <td>19.500000</td>\n",
              "      <td>98.000000</td>\n",
              "      <td>2.355000</td>\n",
              "      <td>2.135000</td>\n",
              "      <td>0.340000</td>\n",
              "      <td>1.555000</td>\n",
              "      <td>4.690000</td>\n",
              "      <td>0.965000</td>\n",
              "      <td>2.780000</td>\n",
              "      <td>673.500000</td>\n",
              "      <td>1.000000</td>\n",
              "      <td>1.000000</td>\n",
              "    </tr>\n",
              "    <tr>\n",
              "      <th>75%</th>\n",
              "      <td>13.677500</td>\n",
              "      <td>3.082500</td>\n",
              "      <td>2.557500</td>\n",
              "      <td>21.500000</td>\n",
              "      <td>107.000000</td>\n",
              "      <td>2.800000</td>\n",
              "      <td>2.875000</td>\n",
              "      <td>0.437500</td>\n",
              "      <td>1.950000</td>\n",
              "      <td>6.200000</td>\n",
              "      <td>1.120000</td>\n",
              "      <td>3.170000</td>\n",
              "      <td>985.000000</td>\n",
              "      <td>2.000000</td>\n",
              "      <td>1.000000</td>\n",
              "    </tr>\n",
              "    <tr>\n",
              "      <th>max</th>\n",
              "      <td>14.830000</td>\n",
              "      <td>5.800000</td>\n",
              "      <td>3.230000</td>\n",
              "      <td>30.000000</td>\n",
              "      <td>162.000000</td>\n",
              "      <td>3.880000</td>\n",
              "      <td>5.080000</td>\n",
              "      <td>0.660000</td>\n",
              "      <td>3.580000</td>\n",
              "      <td>13.000000</td>\n",
              "      <td>1.710000</td>\n",
              "      <td>4.000000</td>\n",
              "      <td>1680.000000</td>\n",
              "      <td>2.000000</td>\n",
              "      <td>1.000000</td>\n",
              "    </tr>\n",
              "  </tbody>\n",
              "</table>\n",
              "</div>"
            ],
            "text/plain": [
              "          alcohol  malic_acid         ash  alcalinity_of_ash   magnesium  \\\n",
              "count  178.000000  178.000000  178.000000         178.000000  178.000000   \n",
              "mean    13.000618    2.336348    2.366517          19.494944   99.741573   \n",
              "std      0.811827    1.117146    0.274344           3.339564   14.282484   \n",
              "min     11.030000    0.740000    1.360000          10.600000   70.000000   \n",
              "25%     12.362500    1.602500    2.210000          17.200000   88.000000   \n",
              "50%     13.050000    1.865000    2.360000          19.500000   98.000000   \n",
              "75%     13.677500    3.082500    2.557500          21.500000  107.000000   \n",
              "max     14.830000    5.800000    3.230000          30.000000  162.000000   \n",
              "\n",
              "       total_phenols  flavanoids  nonflavanoid_phenols  proanthocyanins  \\\n",
              "count     178.000000  178.000000            178.000000       178.000000   \n",
              "mean        2.295112    2.029270              0.361854         1.590899   \n",
              "std         0.625851    0.998859              0.124453         0.572359   \n",
              "min         0.980000    0.340000              0.130000         0.410000   \n",
              "25%         1.742500    1.205000              0.270000         1.250000   \n",
              "50%         2.355000    2.135000              0.340000         1.555000   \n",
              "75%         2.800000    2.875000              0.437500         1.950000   \n",
              "max         3.880000    5.080000              0.660000         3.580000   \n",
              "\n",
              "       color_intensity         hue  od280/od315_of_diluted_wines      proline  \\\n",
              "count       178.000000  178.000000                    178.000000   178.000000   \n",
              "mean          5.058090    0.957449                      2.611685   746.893258   \n",
              "std           2.318286    0.228572                      0.709990   314.907474   \n",
              "min           1.280000    0.480000                      1.270000   278.000000   \n",
              "25%           3.220000    0.782500                      1.937500   500.500000   \n",
              "50%           4.690000    0.965000                      2.780000   673.500000   \n",
              "75%           6.200000    1.120000                      3.170000   985.000000   \n",
              "max          13.000000    1.710000                      4.000000  1680.000000   \n",
              "\n",
              "           target  alcohol_high  \n",
              "count  178.000000    178.000000  \n",
              "mean     0.938202      0.516854  \n",
              "std      0.775035      0.501126  \n",
              "min      0.000000      0.000000  \n",
              "25%      0.000000      0.000000  \n",
              "50%      1.000000      1.000000  \n",
              "75%      2.000000      1.000000  \n",
              "max      2.000000      1.000000  "
            ]
          },
          "execution_count": 20,
          "metadata": {},
          "output_type": "execute_result"
        }
      ],
      "source": [
        "# ===== 以下に解答のコードを入力して下さい =====\n",
        "wine_df.describe()"
      ]
    },
    {
      "cell_type": "code",
      "execution_count": 21,
      "id": "l-AVIHtot0uN",
      "metadata": {
        "ExecuteTime": {
          "end_time": "2024-01-30T09:43:30.726480Z",
          "start_time": "2024-01-30T09:43:30.599879Z"
        },
        "colab": {
          "base_uri": "https://localhost:8080/"
        },
        "id": "l-AVIHtot0uN",
        "outputId": "d1cfbd10-bc61-400e-dcde-be951646001b"
      },
      "outputs": [
        {
          "name": "stdout",
          "output_type": "stream",
          "text": [
            "proline\n"
          ]
        }
      ],
      "source": [
        "# ===== 以下に解答のコードを入力して下さい =====\n",
        "print(wine_df.describe().std().idxmax())"
      ]
    },
    {
      "cell_type": "markdown",
      "id": "NWeM_eG5t0uN",
      "metadata": {
        "collapsed": false,
        "id": "NWeM_eG5t0uN"
      },
      "source": [
        "### 問題3-2\n",
        "\n",
        "dataframeの `plot.hist` メソッドを使用し、`proline` の分布を可視化しましょう。(※ヒントは[こちら](https://pandas.pydata.org/docs/reference/api/pandas.DataFrame.plot.hist.html))"
      ]
    },
    {
      "cell_type": "code",
      "execution_count": 22,
      "id": "Jd9K1m0Et0uN",
      "metadata": {
        "ExecuteTime": {
          "end_time": "2024-01-30T09:43:30.903865Z",
          "start_time": "2024-01-30T09:43:30.610072Z"
        },
        "colab": {
          "base_uri": "https://localhost:8080/",
          "height": 448
        },
        "id": "Jd9K1m0Et0uN",
        "outputId": "2bf90531-42ae-42c9-edc7-8b69772156df"
      },
      "outputs": [
        {
          "data": {
            "text/plain": [
              "<Axes: ylabel='Frequency'>"
            ]
          },
          "execution_count": 22,
          "metadata": {},
          "output_type": "execute_result"
        },
        {
          "data": {
            "image/png": "[encoded data removed]",
            "text/plain": [
              "<Figure size 640x480 with 1 Axes>"
            ]
          },
          "metadata": {},
          "output_type": "display_data"
        }
      ],
      "source": [
        "# ===== 以下に解答のコードを入力して下さい =====\n",
        "wine_df[\"proline\"].plot.hist()"
      ]
    },
    {
      "cell_type": "markdown",
      "id": "lsuLuGFnt0uN",
      "metadata": {
        "collapsed": false,
        "id": "lsuLuGFnt0uN"
      },
      "source": [
        "### 問題3-3\n",
        "\n",
        "dataframeの `plot.scatter` メソッドを使用し、`total_phenols`, `flavanoids` の分布を可視化しましょう。(※ヒントは[こちら](https://pandas.pydata.org/docs/reference/api/pandas.DataFrame.plot.scatter.html))\n",
        "\n",
        "また可視化した結果、どんなことが言えそうですか？"
      ]
    },
    {
      "cell_type": "code",
      "execution_count": 23,
      "id": "vSVDtiqPt0uN",
      "metadata": {
        "ExecuteTime": {
          "end_time": "2024-01-30T09:43:31.033982Z",
          "start_time": "2024-01-30T09:43:30.783235Z"
        },
        "colab": {
          "base_uri": "https://localhost:8080/",
          "height": 468
        },
        "id": "vSVDtiqPt0uN",
        "outputId": "45ee861c-3d72-42af-c7d8-7f91f6241e21"
      },
      "outputs": [
        {
          "data": {
            "text/plain": [
              "<Axes: xlabel='total_phenols', ylabel='flavanoids'>"
            ]
          },
          "execution_count": 23,
          "metadata": {},
          "output_type": "execute_result"
        },
        {
          "data": {
            "image/png": "[encoded data removed]",
            "text/plain": [
              "<Figure size 640x480 with 1 Axes>"
            ]
          },
          "metadata": {},
          "output_type": "display_data"
        }
      ],
      "source": [
        "# ===== 以下に解答のコードを入力して下さい =====\n",
        "wine_df.plot.scatter(x=\"total_phenols\", y=\"flavanoids\")\n"
      ]
    },
    {
      "cell_type": "code",
      "execution_count": 24,
      "id": "BlnEy7H3t0uN",
      "metadata": {
        "ExecuteTime": {
          "end_time": "2024-01-30T09:43:31.038417Z",
          "start_time": "2024-01-30T09:43:30.939726Z"
        },
        "colab": {
          "base_uri": "https://localhost:8080/"
        },
        "id": "BlnEy7H3t0uN",
        "outputId": "f8a7a433-962e-4033-f7c6-f723cfe1ffa9"
      },
      "outputs": [
        {
          "name": "stdout",
          "output_type": "stream",
          "text": [
            "相関関係が見える\n"
          ]
        }
      ],
      "source": [
        "# ===== 以下に解答のコードを入力して下さい =====\n",
        "print(\"相関関係が見える\")"
      ]
    },
    {
      "cell_type": "markdown",
      "id": "xZM8xqxmt0uN",
      "metadata": {
        "collapsed": false,
        "id": "xZM8xqxmt0uN"
      },
      "source": [
        "### 問題3-4\n",
        "\n",
        "dataframeの `corr` メソッドを使用し、`total_phenols`, `flavanoids` の相関係数を計算しましょう。(※ヒントは[こちら](https://pandas.pydata.org/docs/reference/api/pandas.DataFrame.corr.html))"
      ]
    },
    {
      "cell_type": "code",
      "execution_count": 25,
      "id": "G-0TQ2Xat0uN",
      "metadata": {
        "ExecuteTime": {
          "end_time": "2024-01-30T09:43:31.038667Z",
          "start_time": "2024-01-30T09:43:30.946018Z"
        },
        "colab": {
          "base_uri": "https://localhost:8080/"
        },
        "id": "G-0TQ2Xat0uN",
        "outputId": "ea612bac-8e5c-4ac1-892e-42172d9dcf7b"
      },
      "outputs": [
        {
          "data": {
            "text/plain": [
              "0.8645635000951151"
            ]
          },
          "execution_count": 25,
          "metadata": {},
          "output_type": "execute_result"
        }
      ],
      "source": [
        "# ===== 以下に解答のコードを入力して下さい =====\n",
        "wine_df[\"total_phenols\"].corr(wine_df[\"flavanoids\"])"
      ]
    },
    {
      "cell_type": "markdown",
      "id": "joe7rYTXt0uN",
      "metadata": {
        "collapsed": false,
        "id": "joe7rYTXt0uN"
      },
      "source": [
        "### 問題4 探索的データ解析（EDA）\n",
        "\n",
        "EDAを行い、データの特徴や傾向を特定していきましょう。"
      ]
    },
    {
      "cell_type": "markdown",
      "id": "TBGjreGyt0uN",
      "metadata": {
        "collapsed": false,
        "id": "TBGjreGyt0uN"
      },
      "source": [
        "### 問題4-1\n",
        "\n",
        "ワインの種類 `target` ごとに特徴量の平均を算出してみましょう。\n",
        "またその結果、ワインの種類 `target` ごとに差がある特徴量を2つ選択して下さい。"
      ]
    },
    {
      "cell_type": "code",
      "execution_count": null,
      "id": "Y090iCaqt0uN",
      "metadata": {
        "ExecuteTime": {
          "end_time": "2024-01-30T09:43:31.038745Z",
          "start_time": "2024-01-30T09:43:30.955579Z"
        },
        "id": "Y090iCaqt0uN"
      },
      "outputs": [],
      "source": [
        "# ===== 以下に解答のコードを入力して下さい =====\n",
        "mean_features_by_target = wine_df.groupby(\"target\").mean()"
      ]
    },
    {
      "cell_type": "code",
      "execution_count": null,
      "id": "-vp-8trpt0uN",
      "metadata": {
        "ExecuteTime": {
          "end_time": "2024-01-30T09:43:31.038809Z",
          "start_time": "2024-01-30T09:43:30.960252Z"
        },
        "colab": {
          "base_uri": "https://localhost:8080/"
        },
        "id": "-vp-8trpt0uN",
        "outputId": "5766b84a-98c8-400d-c852-e880737424fb"
      },
      "outputs": [
        {
          "data": {
            "text/plain": [
              "Index(['proline', 'magnesium'], dtype='object')"
            ]
          },
          "execution_count": 36,
          "metadata": {},
          "output_type": "execute_result"
        }
      ],
      "source": [
        "# ===== 以下に解答のコードを入力して下さい =====\n",
        "# 特徴量ごとの分散を計算（差が大きい特徴量を見つける）\n",
        "feature_variance = mean_features_by_target.var().sort_values(ascending=False)\n",
        "\n",
        "# 差が大きい特徴量の上位2つを選択\n",
        "feature_variance.head(2).index"
      ]
    },
    {
      "cell_type": "markdown",
      "id": "KBgtMsUBt0uN",
      "metadata": {
        "collapsed": false,
        "id": "KBgtMsUBt0uN"
      },
      "source": [
        "### 問題4-2\n",
        "\n",
        "問題4-1 で選択した２つの特徴量で、上手くワインの種類が分類できそうかを散布図を用いて確認してみましょう。\n",
        "\n",
        "ここでは `seaborn` の `scatterplot` を用いて描画してみましょう。(※ヒントは[こちら](https://seaborn.pydata.org/generated/seaborn.scatterplot.html))"
      ]
    },
    {
      "cell_type": "code",
      "execution_count": null,
      "id": "6pSLNu-kt0uN",
      "metadata": {
        "ExecuteTime": {
          "end_time": "2024-01-30T09:43:31.234996Z",
          "start_time": "2024-01-30T09:43:30.965521Z"
        },
        "colab": {
          "base_uri": "https://localhost:8080/",
          "height": 467
        },
        "id": "6pSLNu-kt0uN",
        "outputId": "9d32464f-9187-43c6-e87f-5e373849db43"
      },
      "outputs": [
        {
          "data": {
            "text/plain": [
              "<Axes: xlabel='proline', ylabel='magnesium'>"
            ]
          },
          "execution_count": 37,
          "metadata": {},
          "output_type": "execute_result"
        },
        {
          "data": {
            "image/png": "[encoded data removed]",
            "text/plain": [
              "<Figure size 640x480 with 1 Axes>"
            ]
          },
          "metadata": {},
          "output_type": "display_data"
        }
      ],
      "source": [
        "# ===== 以下に解答のコードを入力して下さい =====\n",
        "sns.scatterplot(data=wine_df, x=\"proline\", y=\"magnesium\", hue=\"target\", palette=\"viridis\")"
      ]
    }
  ],
  "metadata": {
    "colab": {
      "provenance": []
    },
    "kernelspec": {
      "display_name": "base",
      "language": "python",
      "name": "python3"
    },
    "language_info": {
      "codemirror_mode": {
        "name": "ipython",
        "version": 3
      },
      "file_extension": ".py",
      "mimetype": "text/x-python",
      "name": "python",
      "nbconvert_exporter": "python",
      "pygments_lexer": "ipython3",
      "version": "3.12.3"
    }
  },
  "nbformat": 4,
  "nbformat_minor": 5
}
